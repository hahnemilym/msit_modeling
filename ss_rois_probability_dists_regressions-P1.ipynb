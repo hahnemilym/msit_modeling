{
 "cells": [
  {
   "cell_type": "code",
   "execution_count": 1,
   "metadata": {},
   "outputs": [
    {
     "name": "stderr",
     "output_type": "stream",
     "text": [
      "/Users/emilyhahn/anaconda2/lib/python2.7/site-packages/statsmodels/compat/pandas.py:56: FutureWarning: The pandas.core.datetools module is deprecated and will be removed in a future version. Please use the pandas.tseries module instead.\n",
      "  from pandas.core import datetools\n"
     ]
    }
   ],
   "source": [
    "import os\n",
    "import scipy\n",
    "import numpy as np\n",
    "import pylab as plt\n",
    "import pandas as pd\n",
    "import seaborn as sns\n",
    "from scipy import stats\n",
    "from pandas import read_csv\n",
    "import matplotlib.pyplot as plt\n",
    "from matplotlib import pyplot as mp\n",
    "import statsmodels.api as sm\n",
    "import statsmodels.formula.api as smf\n",
    "from scipy.io import savemat, loadmat\n",
    "from scipy.stats import pointbiserialr\n",
    "from matplotlib.patches import Circle\n",
    "from sklearn import datasets, linear_model\n",
    "from scipy.stats import probplot, pearsonr\n",
    "from matplotlib.cbook import get_sample_data\n",
    "from pandas.plotting import lag_plot\n",
    "from pandas.plotting import autocorrelation_plot\n",
    "from sklearn.preprocessing import scale \n",
    "# from sklearn.metrics import mean_squared_error, r2_score\n",
    "from matplotlib.offsetbox import (TextArea, DrawingArea, OffsetImage,AnnotationBbox)"
   ]
  },
  {
   "cell_type": "markdown",
   "metadata": {},
   "source": [
    "### Configure environment"
   ]
  },
  {
   "cell_type": "code",
   "execution_count": 2,
   "metadata": {},
   "outputs": [],
   "source": [
    "preproc_behav_dir='/Users/emilyhahn/projects/msit_modeling/behavior_preproc/completed'\n",
    "LSS_dir='/Users/emilyhahn/projects/msit_modeling/LSS_AVG'\n",
    "LSS_estim_dir='/Users/emilyhahn/projects/msit_modeling/LSS_AVG_estim'\n",
    "censor_dir='/Users/emilyhahn/projects/msit_modeling/censor_data'\n",
    "df=pd.DataFrame({'group':[],'subject':[],'dACC':[],'L_IFG':[],'R_IFG':[],'L_dlPFC':[],'R_dlPFC':[],'trial':[],'cond':[],'acc':[],'rt':[],'conflict':[],'adapt':[]})"
   ]
  },
  {
   "cell_type": "markdown",
   "metadata": {},
   "source": [
    "### Define Subjects"
   ]
  },
  {
   "cell_type": "code",
   "execution_count": 3,
   "metadata": {
    "scrolled": true
   },
   "outputs": [],
   "source": [
    "SUBJ_LIST = ['hc001','hc002','hc003','hc004','hc005','hc006','hc010','hc011','hc012',\\\n",
    "             'hc014','hc015','hc017','hc019','hc021','hc023','hc028','hc031','hc032',\\\n",
    "             'hc033','hc034','hc036','hc038','hc042','pp001','pp002','pp003','pp004',\\\n",
    "             'pp006','pp007','pp008','pp010','pp011','pp012','pp013','pp015','pp016']\n",
    "##~~~~~~~~~~~~~~~~~~~~~~~~~~~~~~~~~~~~~~~~~~~~~~~~#\n",
    "# SUBJ_LIST = ['hc001','hc002','hc003','hc004','hc005','hc006','hc009','hc010','hc011',\\\n",
    "#              'hc012','hc014','hc015','hc017','hc018','hc019','hc021','hc023','hc028',\\\n",
    "#              'hc031','hc032','hc033','hc034','hc036','hc038','hc042']\n",
    "##~~~~~~~~~~~~~~~~~~~~~~~~~~~~~~~~~~~~~~~~~~~~~~~~#\n",
    "# SUBJ_LIST= ['hc006','hc018','hc009','hc019','hc021','hc028','hc031','hc036','pp004','pp006','pp007','pp012','pp015']"
   ]
  },
  {
   "cell_type": "markdown",
   "metadata": {},
   "source": [
    "### Define Functions - Data Structs"
   ]
  },
  {
   "cell_type": "code",
   "execution_count": 4,
   "metadata": {
    "scrolled": true
   },
   "outputs": [],
   "source": [
    "def normalize(arr): return (arr - arr.min()) / (arr.max() - arr.min())\n",
    "\n",
    "def generate_roi_vars(roi_file,region,var):\n",
    "    with open(roi_file, 'r') as file:\n",
    "        for line in file:\n",
    "            line=line.strip()\n",
    "            line=float(line)\n",
    "            if -5<line<5 and line!=0:\n",
    "                region.append(line)\n",
    "            else:\n",
    "                region.append('NaN')\n",
    "#                 print \"%s beta exlcuded for %s\" % (line,roi_file)\n",
    "    return\n",
    "def censor_tps(censor_file,censor_var,var):\n",
    "    with open(censor_file, 'r') as file:\n",
    "        for line in file:\n",
    "            line=line.strip()\n",
    "            censor_var.append(line)\n",
    "#         print len(censor_var)\n",
    "#         censor_var=censor_var[1::2]\n",
    "#         print len(censor_var)\n",
    "    return"
   ]
  },
  {
   "cell_type": "markdown",
   "metadata": {},
   "source": [
    "### Assemble Indiv and Group Data - SS output, ROI data"
   ]
  },
  {
   "cell_type": "code",
   "execution_count": 5,
   "metadata": {
    "scrolled": true
   },
   "outputs": [],
   "source": [
    "for SUBJ in SUBJ_LIST:\n",
    "    rt=[]\n",
    "    conflict=[]\n",
    "    adapt=[]\n",
    "    dACC=[]\n",
    "    L_IFG=[]\n",
    "    R_IFG=[]\n",
    "    L_dlPFC=[]\n",
    "    R_dlPFC=[]\n",
    "    cond=[]\n",
    "    trial=[]\n",
    "    acc=[]\n",
    "    censor=[]\n",
    "    #---------------------------------##\n",
    "    ## Configure SS variables\n",
    "    #---------------------------------##\n",
    "    mat = loadmat(os.path.join(preproc_behav_dir,'%s_msit_ss_V2.mat') % SUBJ)\n",
    "    ## Assemble Variables\n",
    "    ss_outputs_xsmt = np.expand_dims(np.array([np.concatenate(arr) \\\n",
    "                                for arr in mat['XSmt']]).squeeze(),1)\n",
    "    ss_xsmt = normalize(ss_outputs_xsmt.squeeze())\n",
    "    #---------------------------------##\n",
    "    rt.extend([float(i) for i in np.array(mat['RT'].squeeze())])\n",
    "    conflict.extend([float(i[0]) for i in ss_xsmt])\n",
    "    adapt.extend([float(i[1]) for i in ss_xsmt])\n",
    "    acc.extend([float(i) for i in np.array(mat['Accuracy'].squeeze())])\n",
    "    trial.extend([float(i) for i in np.array(mat['Trial'].squeeze())])\n",
    "    cond.extend([float(i) for i in np.array(mat['Interference'].squeeze())])\n",
    "    #---------------------------------##\n",
    "    ## Configure ROI variables\n",
    "    #---------------------------------##\n",
    "    ## Load indiv ROI vars\n",
    "    file_1=os.path.join(LSS_dir,'%s.dACC_LSS_avg_file.1D' % SUBJ)\n",
    "    file_2=os.path.join(LSS_dir,'%s.L_IFG_LSS_avg_file.1D' % SUBJ)\n",
    "    file_3=os.path.join(LSS_dir,'%s.R_IFG_LSS_avg_file.1D' % SUBJ)\n",
    "    file_4=os.path.join(LSS_dir,'%s.L_dlPFC_LSS_avg_file.1D' % SUBJ)\n",
    "    file_5=os.path.join(LSS_dir,'%s.R_dlPFC_LSS_avg_file.1D' % SUBJ)\n",
    "    file_6=os.path.join(censor_dir,'msit.%s.msit_bsm.censor.1D' % SUBJ)\n",
    "    #---------------------------------##\n",
    "    ## Generate ROI variables\n",
    "    generate_roi_vars(file_1,dACC,\"dACC\")\n",
    "    generate_roi_vars(file_2,L_IFG,\"L_IFG\")\n",
    "    generate_roi_vars(file_3,R_IFG,\"R_IFG\")\n",
    "    generate_roi_vars(file_4,L_dlPFC,\"L_dlPFC\")\n",
    "    generate_roi_vars(file_5,R_dlPFC,\"R_dlPFC\")\n",
    "    censor_tps(file_6,censor,\"censor\")\n",
    "    #---------------------------------##\n",
    "    ## Determine group\n",
    "    s=[]\n",
    "    if 'hc' in SUBJ:\n",
    "        s.append(1)\n",
    "    elif 'pp' in SUBJ:\n",
    "        s.append(2)\n",
    "    GROUP_ARR=np.array([\"%s\" % s] * len(trial))\n",
    "    group=[i.strip('[]') for i in GROUP_ARR]\n",
    "    SUBJ_ARR=np.array([\"%s\" % SUBJ] * len(trial))\n",
    "    #---------------------------------## \n",
    "    ## Interpolate missing ROI + RT data points\n",
    "    dACC = normalize(pd.Series(dACC).astype(float).interpolate())\n",
    "    R_IFG = normalize(pd.Series(R_IFG).astype(float).interpolate())\n",
    "    L_IFG = normalize(pd.Series(L_IFG).astype(float).interpolate())\n",
    "    L_dlPFC = normalize(pd.Series(L_dlPFC).astype(float).interpolate())\n",
    "    R_dlPFC = normalize(pd.Series(R_dlPFC).astype(float).interpolate())\n",
    "    rt = normalize(pd.Series(rt).astype(float).interpolate())\n",
    "    #---------------------------------## \n",
    "    df1=pd.DataFrame({\"group\":group,\"subject\":SUBJ_ARR,'rt':rt,'dACC':dACC,'L_IFG':L_IFG,'R_IFG':R_IFG,'L_dlPFC':L_dlPFC,'R_dlPFC':R_dlPFC,'trial':trial,'cond':cond,'acc':acc,'conflict':conflict,'adapt':adapt})\n",
    "    df=df.append(df1)\n",
    "#---------------------------------##\n",
    "df_hcs=df.where(df['group']=='1')\n",
    "df_hcs=df_hcs.dropna()\n",
    "df_pts=df.where(df['group']=='2')\n",
    "df_pts=df_pts.dropna()\n",
    "#---------------------------------##"
   ]
  },
  {
   "cell_type": "markdown",
   "metadata": {},
   "source": [
    "### Visualize SS variables, RT, Cond"
   ]
  },
  {
   "cell_type": "code",
   "execution_count": 6,
   "metadata": {
    "scrolled": true
   },
   "outputs": [],
   "source": [
    "def ss_rt_plots(df_type,sub_or_group):\n",
    "    ##---------------------------------##\n",
    "    ## Plot SS and Behvaior\n",
    "    ##---------------------------------##  \n",
    "    plt.style.use('fivethirtyeight')\n",
    "    sns.set_style('white')\n",
    "    sns.set_context('paper', font_scale=2.25)\n",
    "    ##~~~~~~~~~~~~~~~~~~~~~~~~~~~~~~~~~~~~~~~~~~~~~~~~#\n",
    "    ## Plot reaction time and trial timeseries\n",
    "    ##~~~~~~~~~~~~~~~~~~~~~~~~~~~~~~~~~~~~~~~~~~~~~~~~#\n",
    "    fig = plt.figure(figsize=(20,7))\n",
    "    ax = plt.subplot2grid((4,4),(1,0),colspan=3,rowspan=3)\n",
    "    ss_title=\"%s | Conflict, Adaptation, RT\" % sub_or_group\n",
    "    colors = np.where(df_type[\"cond\"], 'firebrick', 'navy')\n",
    "    markers = np.where(df_type[\"acc\"],'o','x').squeeze()\n",
    "    ax.plot(df_type[\"trial\"], df_type[\"rt\"], color='k', linewidth=2, alpha=0.4)\n",
    "    for x,y,c,m in zip(df_type['trial'], df_type[\"rt\"], colors, markers): \n",
    "        ax.scatter(x,y,s=40,marker=m,color=c)\n",
    "    for color, label in zip(['navy', 'firebrick'], ['C','I']): \n",
    "        ax.scatter([],[], s=60, color=color, label=label)\n",
    "    # Configure matplotlib.patch.Patch properties\n",
    "    props = dict(facecolor='white',alpha=0.5)\n",
    "    ax.text(1.03, 0.6, r'$\\bullet$ = Incongruent', transform=ax.transAxes, fontsize=18,\\\n",
    "        verticalalignment='top', bbox=props, color='firebrick')\n",
    "    ax.text(1.03, 0.4, r'$\\bullet$ = Congruent', transform=ax.transAxes, fontsize=18,\\\n",
    "        verticalalignment='top', bbox=props, color='navy')\n",
    "    ax.set_xlim(0,190)\n",
    "    ax.set_xlabel('Trial Number', fontsize=18)\n",
    "    ax.set_ylabel('Reaction Time', fontsize=18)\n",
    "    ax.set_title('MSIT | %s' % ss_title,loc='center')\n",
    "    ##~~~~~~~~~~~~~~~~~~~~~~~~~~~~~~~~~~~~~~~~~~~~~~~~#\n",
    "    ## Plot state space\n",
    "    ##~~~~~~~~~~~~~~~~~~~~~~~~~~~~~~~~~~~~~~~~~~~~~~~~#\n",
    "    line1,=ax.plot(df_type[\"trial\"],df_type[\"conflict\"],linewidth=2,alpha=0.7,color='firebrick',label='Conflict')\n",
    "    line2,=ax.plot(df_type[\"trial\"],df_type[\"adapt\"],linewidth=2,alpha=0.7,color='navy',label='Adapt')\n",
    "    # Conflict legend\n",
    "    first_legend = plt.legend(handles=[line1],loc=7, bbox_to_anchor=(1.175,0.95))\n",
    "    ax = plt.gca().add_artist(first_legend)\n",
    "    # Adaptation legend\n",
    "    plt.legend(handles=[line2],loc=7, bbox_to_anchor=(1.175, 0.05))\n",
    "    sns.despine()\n",
    "    plt.show() \n",
    "    return\n",
    "##~~~~~~~~~~~~~~~~~~~~~~~~~~~~~~~~~~~~~~~~~~~~~~~~#\n",
    "## Plot Group Data\n",
    "##~~~~~~~~~~~~~~~~~~~~~~~~~~~~~~~~~~~~~~~~~~~~~~~~#\n",
    "# ss_rt_plots(df,'ALL SUBJS')\n",
    "# ss_rt_plots(df_hcs,'CONTROL SUBJS')\n",
    "# ss_rt_plots(df_pts,'PSYCHIATRIC SUBJS')\n",
    "##~~~~~~~~~~~~~~~~~~~~~~~~~~~~~~~~~~~~~~~~~~~~~~~~#\n",
    "## Plot Individual Data\n",
    "##~~~~~~~~~~~~~~~~~~~~~~~~~~~~~~~~~~~~~~~~~~~~~~~~#\n",
    "# for subj in SUBJ_LIST:\n",
    "#     df_sub=df.where(df['subject']==subj)\n",
    "#     df_sub=df_sub.dropna()\n",
    "#     display(df_sub)\n",
    "#     ss_rt_plots(df_sub,subj.upper())"
   ]
  },
  {
   "cell_type": "code",
   "execution_count": 7,
   "metadata": {
    "scrolled": true
   },
   "outputs": [],
   "source": [
    "def ss_roi_plots(df_type,sub_or_group):\n",
    "    for region in ['dACC','L_IFG','R_IFG','L_dlPFC','R_dlPFC']:\n",
    "        ##---------------------------------##\n",
    "        ## Plot SS and Behvaior\n",
    "        ##---------------------------------##  \n",
    "        plt.style.use('fivethirtyeight')\n",
    "        sns.set_style('white')\n",
    "        sns.set_context('paper', font_scale=2.25)\n",
    "        ##~~~~~~~~~~~~~~~~~~~~~~~~~~~~~~~~~~~~~~~~~~~~~~~~#\n",
    "        ## Plot reaction time and trial timeseries\n",
    "        ##~~~~~~~~~~~~~~~~~~~~~~~~~~~~~~~~~~~~~~~~~~~~~~~~#\n",
    "        fig = plt.figure(figsize=(20,7))\n",
    "        ax = plt.subplot2grid((4,4),(1,0),colspan=3,rowspan=3)\n",
    "        ss_title=\"%s | Conflict, Adaptation, %s\" % (sub_or_group,region)\n",
    "        colors = np.where(df_type[\"cond\"], 'firebrick', 'navy')\n",
    "        markers = np.where(df_type[\"acc\"],'o','x').squeeze()\n",
    "        ax.plot(df_type['trial'], df_type['%s' % region], color='k', linewidth=2, alpha=0.4)\n",
    "        for x,y,c,m in zip(df_type['trial'], df_type['%s' % region], colors, markers):\n",
    "            ax.scatter(x,y,s=40,marker=m,color=c)\n",
    "        for color, label in zip(['navy', 'firebrick'], ['C','I']): \n",
    "            ax.scatter([],[], s=60, color=color, label=label)\n",
    "        # Configure matplotlib.patch.Patch properties\n",
    "        props = dict(facecolor='white',alpha=0.5)\n",
    "        ax.text(1.03, 0.6, r'$\\bullet$ = Incongruent', transform=ax.transAxes, fontsize=18,\\\n",
    "            verticalalignment='top', bbox=props, color='firebrick')\n",
    "        ax.text(1.03, 0.4, r'$\\bullet$ = Congruent', transform=ax.transAxes, fontsize=18,\\\n",
    "            verticalalignment='top', bbox=props, color='navy')\n",
    "        ##ax.text(1.03, 0.5, r'$\\bullet$ = $\\beta$', transform=ax.transAxes, fontsize=18,\\\n",
    "            ##verticalalignment='top', bbox=props, color='gold')\n",
    "        ax.set_xlim(0,190)\n",
    "        ax.set_xlabel('Trial Number', fontsize=18)\n",
    "        ax.set_ylabel(r'$\\beta$', fontsize=18)\n",
    "        ax.set_title('MSIT | %s' % ss_title,loc='center')\n",
    "        ##~~~~~~~~~~~~~~~~~~~~~~~~~~~~~~~~~~~~~~~~~~~~~~~~#\n",
    "        ## Plot state space\n",
    "        ##~~~~~~~~~~~~~~~~~~~~~~~~~~~~~~~~~~~~~~~~~~~~~~~~#\n",
    "        line1,=ax.plot(df_type[\"trial\"],df_type[\"conflict\"],linewidth=2,alpha=0.7,color='firebrick',label='Conflict')\n",
    "        line2,=ax.plot(df_type[\"trial\"],df_type[\"adapt\"],linewidth=2,alpha=0.7,color='navy',label='Adapt')\n",
    "        # Conflict legend\n",
    "        first_legend = plt.legend(handles=[line1],loc=7, bbox_to_anchor=(1.175,0.95))\n",
    "        ax = plt.gca().add_artist(first_legend)\n",
    "        # Adaptation legend\n",
    "        plt.legend(handles=[line2],loc=7, bbox_to_anchor=(1.175, 0.05))\n",
    "        sns.despine()\n",
    "        plt.show() \n",
    "    return\n",
    "##~~~~~~~~~~~~~~~~~~~~~~~~~~~~~~~~~~~~~~~~~~~~~~~~#\n",
    "## Plot Group Data\n",
    "##~~~~~~~~~~~~~~~~~~~~~~~~~~~~~~~~~~~~~~~~~~~~~~~~#\n",
    "# ss_roi_plots(df,'ALL SUBJS')\n",
    "# ss_roi_plots(df_hcs,'CONTROL SUBJS')\n",
    "# ss_roi_plots(df_pts,'PSYCHIATRIC SUBJS')\n",
    "##~~~~~~~~~~~~~~~~~~~~~~~~~~~~~~~~~~~~~~~~~~~~~~~~#\n",
    "## Plot Individual Data\n",
    "##~~~~~~~~~~~~~~~~~~~~~~~~~~~~~~~~~~~~~~~~~~~~~~~~#\n",
    "# for subj in SUBJ_LIST:\n",
    "#     df_sub=df.where(df['subject']==subj)\n",
    "#     df_sub=df_sub.dropna()\n",
    "#     ss_roi_plots(df_sub,subj.upper())"
   ]
  },
  {
   "cell_type": "markdown",
   "metadata": {},
   "source": [
    "### Visualize Beta Series Method Timeseries"
   ]
  },
  {
   "cell_type": "code",
   "execution_count": 8,
   "metadata": {
    "scrolled": true
   },
   "outputs": [],
   "source": [
    "def timeseries_plots(df_type,sub_or_group):\n",
    "    ##---------------------------------##\n",
    "    ##  Display fMRI time-series\n",
    "    ##---------------------------------##  \n",
    "    sns.set()\n",
    "    df_rois = df_type[['dACC','L_IFG','R_IFG','L_dlPFC','R_dlPFC']].copy()\n",
    "    df_rois.plot(subplots=True,figsize=(15, 6),fontsize=12,legend='right')\n",
    "    plt.xlabel(\"%s\" % sub_or_group)\n",
    "    plt.show()\n",
    "    \n",
    "    df_vars = df_type[['conflict','adapt','rt']].copy()\n",
    "    df_vars.plot(subplots=True,figsize=(15, 6),fontsize=12,legend='right')\n",
    "    plt.xlabel(\"%s\" % sub_or_group)\n",
    "    plt.show()\n",
    "    return\n",
    "##~~~~~~~~~~~~~~~~~~~~~~~~~~~~~~~~~~~~~~~~~~~~~~~~#\n",
    "## Plot Group Data\n",
    "##~~~~~~~~~~~~~~~~~~~~~~~~~~~~~~~~~~~~~~~~~~~~~~~~#\n",
    "# timeseries_plots(df,'ALL SUBJS')\n",
    "# timeseries_plots(df_hcs,'CONTROL SUBJS')\n",
    "# timeseries_plots(df_pts,'PSYCHIATRIC SUBJS')\n",
    "##~~~~~~~~~~~~~~~~~~~~~~~~~~~~~~~~~~~~~~~~~~~~~~~~#\n",
    "## Plot Individual Data\n",
    "##~~~~~~~~~~~~~~~~~~~~~~~~~~~~~~~~~~~~~~~~~~~~~~~~#\n",
    "# for subj in SUBJ_LIST:\n",
    "#     df_sub=df.where(df['subject']==subj)\n",
    "#     df_sub=df_sub.dropna()\n",
    "#     timeseries_plots(df_sub,subj.upper())"
   ]
  },
  {
   "cell_type": "code",
   "execution_count": null,
   "metadata": {},
   "outputs": [],
   "source": []
  }
 ],
 "metadata": {
  "kernelspec": {
   "display_name": "Python 2",
   "language": "python",
   "name": "python2"
  },
  "language_info": {
   "codemirror_mode": {
    "name": "ipython",
    "version": 2
   },
   "file_extension": ".py",
   "mimetype": "text/x-python",
   "name": "python",
   "nbconvert_exporter": "python",
   "pygments_lexer": "ipython2",
   "version": "2.7.15"
  }
 },
 "nbformat": 4,
 "nbformat_minor": 2
}
