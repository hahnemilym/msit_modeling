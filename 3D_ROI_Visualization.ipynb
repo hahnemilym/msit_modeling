{
 "cells": [
  {
   "cell_type": "code",
   "execution_count": 1,
   "metadata": {},
   "outputs": [
    {
     "name": "stderr",
     "output_type": "stream",
     "text": [
      "/Users/emilyhahn/anaconda2/lib/python2.7/site-packages/statsmodels/compat/pandas.py:56: FutureWarning: The pandas.core.datetools module is deprecated and will be removed in a future version. Please use the pandas.tseries module instead.\n",
      "  from pandas.core import datetools\n"
     ]
    }
   ],
   "source": [
    "import os\n",
    "import scipy\n",
    "import numpy as np\n",
    "import pylab as plt\n",
    "import pandas as pd\n",
    "import seaborn as sns\n",
    "from scipy import stats\n",
    "from pandas import read_csv\n",
    "import matplotlib.pyplot as plt\n",
    "from matplotlib import pyplot as mp\n",
    "import statsmodels.api as sm\n",
    "import statsmodels.formula.api as smf\n",
    "from scipy.io import savemat, loadmat\n",
    "from scipy.stats import pointbiserialr\n",
    "from matplotlib.patches import Circle\n",
    "from sklearn import datasets, linear_model\n",
    "from scipy.stats import probplot, pearsonr\n",
    "from matplotlib.cbook import get_sample_data\n",
    "from pandas.plotting import lag_plot\n",
    "from pandas.plotting import autocorrelation_plot\n",
    "from sklearn.preprocessing import scale \n",
    "# from sklearn.metrics import mean_squared_error, r2_score\n",
    "from matplotlib.offsetbox import (TextArea, DrawingArea, OffsetImage,AnnotationBbox)"
   ]
  },
  {
   "cell_type": "code",
   "execution_count": 2,
   "metadata": {},
   "outputs": [],
   "source": [
    "preproc_behav_dir='/Users/emilyhahn/projects/msit_modeling/behavior_preproc/completed'\n",
    "LSS_dir='/Users/emilyhahn/projects/msit_modeling/LSS_AVG'\n",
    "LSS_estim_dir='/Users/emilyhahn/projects/msit_modeling/LSS_AVG_estim'\n",
    "censor_dir='/Users/emilyhahn/projects/msit_modeling/censor_data'\n",
    "df=pd.DataFrame({'group':[],'subject':[],'dACC':[],'L_IFG':[],'R_IFG':[],'L_dlPFC':[],'R_dlPFC':[],'trial':[],'cond':[],'acc':[],'rt':[],'conflict':[],'adapt':[]})"
   ]
  },
  {
   "cell_type": "code",
   "execution_count": 3,
   "metadata": {},
   "outputs": [],
   "source": [
    "# SUBJ_LIST= ['hc006','hc018','hc009','hc019','hc021','hc028','hc031','hc036','pp004','pp006','pp007','pp012','pp015']\n",
    "SUBJ_LIST = ['hc001','hc002','hc003','hc004','hc005','hc006','hc010','hc011','hc012',\\\n",
    "             'hc014','hc015','hc017','hc019','hc021','hc023','hc028','hc031','hc032',\\\n",
    "             'hc033','hc034','hc036','hc038','hc042','pp001','pp002','pp003','pp004',\\\n",
    "             'pp006','pp007','pp008','pp010','pp011','pp012','pp013','pp015','pp016']"
   ]
  },
  {
   "cell_type": "code",
   "execution_count": 4,
   "metadata": {},
   "outputs": [],
   "source": [
    "def normalize(arr): return (arr - arr.min()) / (arr.max() - arr.min())\n",
    "\n",
    "def generate_roi_vars(roi_file,region,var):\n",
    "    with open(roi_file, 'r') as file:\n",
    "        for line in file:\n",
    "            line=line.strip()\n",
    "            line=float(line)\n",
    "            if -5<line<5 and line!=0:\n",
    "                region.append(line)\n",
    "            else:\n",
    "                region.append('NaN')\n",
    "#                 print \"%s beta exlcuded for %s\" % (line,roi_file)\n",
    "    return\n",
    "def censor_tps(censor_file,censor_var,var):\n",
    "    with open(censor_file, 'r') as file:\n",
    "        for line in file:\n",
    "            line=line.strip()\n",
    "            censor_var.append(line)\n",
    "#         print len(censor_var)\n",
    "#         censor_var=censor_var[1::2]\n",
    "#         print len(censor_var)\n",
    "    return"
   ]
  },
  {
   "cell_type": "code",
   "execution_count": 5,
   "metadata": {},
   "outputs": [
    {
     "ename": "IOError",
     "evalue": "[Errno 2] No such file or directory: '/Users/emilyhahn/projects/msit_modeling/behavior_preproc/completed/hc001_msit_ss_V2.mat'",
     "output_type": "error",
     "traceback": [
      "\u001b[0;31m---------------------------------------------------------------------------\u001b[0m",
      "\u001b[0;31mIOError\u001b[0m                                   Traceback (most recent call last)",
      "\u001b[0;32m<ipython-input-5-679b343879a0>\u001b[0m in \u001b[0;36m<module>\u001b[0;34m()\u001b[0m\n\u001b[1;32m     15\u001b[0m     \u001b[0;31m## Configure SS variables\u001b[0m\u001b[0;34m\u001b[0m\u001b[0;34m\u001b[0m\u001b[0m\n\u001b[1;32m     16\u001b[0m     \u001b[0;31m#---------------------------------##\u001b[0m\u001b[0;34m\u001b[0m\u001b[0;34m\u001b[0m\u001b[0m\n\u001b[0;32m---> 17\u001b[0;31m     \u001b[0mmat\u001b[0m \u001b[0;34m=\u001b[0m \u001b[0mloadmat\u001b[0m\u001b[0;34m(\u001b[0m\u001b[0mos\u001b[0m\u001b[0;34m.\u001b[0m\u001b[0mpath\u001b[0m\u001b[0;34m.\u001b[0m\u001b[0mjoin\u001b[0m\u001b[0;34m(\u001b[0m\u001b[0mpreproc_behav_dir\u001b[0m\u001b[0;34m,\u001b[0m\u001b[0;34m'%s_msit_ss_V2.mat'\u001b[0m\u001b[0;34m)\u001b[0m \u001b[0;34m%\u001b[0m \u001b[0mSUBJ\u001b[0m\u001b[0;34m)\u001b[0m\u001b[0;34m\u001b[0m\u001b[0m\n\u001b[0m\u001b[1;32m     18\u001b[0m     \u001b[0;31m## Assemble Variables\u001b[0m\u001b[0;34m\u001b[0m\u001b[0;34m\u001b[0m\u001b[0m\n\u001b[1;32m     19\u001b[0m     \u001b[0mss_outputs_xsmt\u001b[0m \u001b[0;34m=\u001b[0m \u001b[0mnp\u001b[0m\u001b[0;34m.\u001b[0m\u001b[0mexpand_dims\u001b[0m\u001b[0;34m(\u001b[0m\u001b[0mnp\u001b[0m\u001b[0;34m.\u001b[0m\u001b[0marray\u001b[0m\u001b[0;34m(\u001b[0m\u001b[0;34m[\u001b[0m\u001b[0mnp\u001b[0m\u001b[0;34m.\u001b[0m\u001b[0mconcatenate\u001b[0m\u001b[0;34m(\u001b[0m\u001b[0marr\u001b[0m\u001b[0;34m)\u001b[0m                                 \u001b[0;32mfor\u001b[0m \u001b[0marr\u001b[0m \u001b[0;32min\u001b[0m \u001b[0mmat\u001b[0m\u001b[0;34m[\u001b[0m\u001b[0;34m'XSmt'\u001b[0m\u001b[0;34m]\u001b[0m\u001b[0;34m]\u001b[0m\u001b[0;34m)\u001b[0m\u001b[0;34m.\u001b[0m\u001b[0msqueeze\u001b[0m\u001b[0;34m(\u001b[0m\u001b[0;34m)\u001b[0m\u001b[0;34m,\u001b[0m\u001b[0;36m1\u001b[0m\u001b[0;34m)\u001b[0m\u001b[0;34m\u001b[0m\u001b[0m\n",
      "\u001b[0;32m/Users/emilyhahn/anaconda2/lib/python2.7/site-packages/scipy/io/matlab/mio.pyc\u001b[0m in \u001b[0;36mloadmat\u001b[0;34m(file_name, mdict, appendmat, **kwargs)\u001b[0m\n\u001b[1;32m    205\u001b[0m     \"\"\"\n\u001b[1;32m    206\u001b[0m     \u001b[0mvariable_names\u001b[0m \u001b[0;34m=\u001b[0m \u001b[0mkwargs\u001b[0m\u001b[0;34m.\u001b[0m\u001b[0mpop\u001b[0m\u001b[0;34m(\u001b[0m\u001b[0;34m'variable_names'\u001b[0m\u001b[0;34m,\u001b[0m \u001b[0mNone\u001b[0m\u001b[0;34m)\u001b[0m\u001b[0;34m\u001b[0m\u001b[0m\n\u001b[0;32m--> 207\u001b[0;31m     \u001b[0mMR\u001b[0m\u001b[0;34m,\u001b[0m \u001b[0mfile_opened\u001b[0m \u001b[0;34m=\u001b[0m \u001b[0mmat_reader_factory\u001b[0m\u001b[0;34m(\u001b[0m\u001b[0mfile_name\u001b[0m\u001b[0;34m,\u001b[0m \u001b[0mappendmat\u001b[0m\u001b[0;34m,\u001b[0m \u001b[0;34m**\u001b[0m\u001b[0mkwargs\u001b[0m\u001b[0;34m)\u001b[0m\u001b[0;34m\u001b[0m\u001b[0m\n\u001b[0m\u001b[1;32m    208\u001b[0m     \u001b[0mmatfile_dict\u001b[0m \u001b[0;34m=\u001b[0m \u001b[0mMR\u001b[0m\u001b[0;34m.\u001b[0m\u001b[0mget_variables\u001b[0m\u001b[0;34m(\u001b[0m\u001b[0mvariable_names\u001b[0m\u001b[0;34m)\u001b[0m\u001b[0;34m\u001b[0m\u001b[0m\n\u001b[1;32m    209\u001b[0m     \u001b[0;32mif\u001b[0m \u001b[0mmdict\u001b[0m \u001b[0;32mis\u001b[0m \u001b[0;32mnot\u001b[0m \u001b[0mNone\u001b[0m\u001b[0;34m:\u001b[0m\u001b[0;34m\u001b[0m\u001b[0m\n",
      "\u001b[0;32m/Users/emilyhahn/anaconda2/lib/python2.7/site-packages/scipy/io/matlab/mio.pyc\u001b[0m in \u001b[0;36mmat_reader_factory\u001b[0;34m(file_name, appendmat, **kwargs)\u001b[0m\n\u001b[1;32m     60\u001b[0m \u001b[0;34m\u001b[0m\u001b[0m\n\u001b[1;32m     61\u001b[0m     \"\"\"\n\u001b[0;32m---> 62\u001b[0;31m     \u001b[0mbyte_stream\u001b[0m\u001b[0;34m,\u001b[0m \u001b[0mfile_opened\u001b[0m \u001b[0;34m=\u001b[0m \u001b[0m_open_file\u001b[0m\u001b[0;34m(\u001b[0m\u001b[0mfile_name\u001b[0m\u001b[0;34m,\u001b[0m \u001b[0mappendmat\u001b[0m\u001b[0;34m)\u001b[0m\u001b[0;34m\u001b[0m\u001b[0m\n\u001b[0m\u001b[1;32m     63\u001b[0m     \u001b[0mmjv\u001b[0m\u001b[0;34m,\u001b[0m \u001b[0mmnv\u001b[0m \u001b[0;34m=\u001b[0m \u001b[0mget_matfile_version\u001b[0m\u001b[0;34m(\u001b[0m\u001b[0mbyte_stream\u001b[0m\u001b[0;34m)\u001b[0m\u001b[0;34m\u001b[0m\u001b[0m\n\u001b[1;32m     64\u001b[0m     \u001b[0;32mif\u001b[0m \u001b[0mmjv\u001b[0m \u001b[0;34m==\u001b[0m \u001b[0;36m0\u001b[0m\u001b[0;34m:\u001b[0m\u001b[0;34m\u001b[0m\u001b[0m\n",
      "\u001b[0;32m/Users/emilyhahn/anaconda2/lib/python2.7/site-packages/scipy/io/matlab/mio.pyc\u001b[0m in \u001b[0;36m_open_file\u001b[0;34m(file_like, appendmat)\u001b[0m\n\u001b[1;32m     35\u001b[0m             \u001b[0;32mif\u001b[0m \u001b[0mappendmat\u001b[0m \u001b[0;32mand\u001b[0m \u001b[0;32mnot\u001b[0m \u001b[0mfile_like\u001b[0m\u001b[0;34m.\u001b[0m\u001b[0mendswith\u001b[0m\u001b[0;34m(\u001b[0m\u001b[0;34m'.mat'\u001b[0m\u001b[0;34m)\u001b[0m\u001b[0;34m:\u001b[0m\u001b[0;34m\u001b[0m\u001b[0m\n\u001b[1;32m     36\u001b[0m                 \u001b[0mfile_like\u001b[0m \u001b[0;34m+=\u001b[0m \u001b[0;34m'.mat'\u001b[0m\u001b[0;34m\u001b[0m\u001b[0m\n\u001b[0;32m---> 37\u001b[0;31m             \u001b[0;32mreturn\u001b[0m \u001b[0mopen\u001b[0m\u001b[0;34m(\u001b[0m\u001b[0mfile_like\u001b[0m\u001b[0;34m,\u001b[0m \u001b[0;34m'rb'\u001b[0m\u001b[0;34m)\u001b[0m\u001b[0;34m,\u001b[0m \u001b[0mTrue\u001b[0m\u001b[0;34m\u001b[0m\u001b[0m\n\u001b[0m\u001b[1;32m     38\u001b[0m         \u001b[0;32melse\u001b[0m\u001b[0;34m:\u001b[0m\u001b[0;34m\u001b[0m\u001b[0m\n\u001b[1;32m     39\u001b[0m             \u001b[0;32mraise\u001b[0m \u001b[0mIOError\u001b[0m\u001b[0;34m(\u001b[0m\u001b[0;34m'Reader needs file name or open file-like object'\u001b[0m\u001b[0;34m)\u001b[0m\u001b[0;34m\u001b[0m\u001b[0m\n",
      "\u001b[0;31mIOError\u001b[0m: [Errno 2] No such file or directory: '/Users/emilyhahn/projects/msit_modeling/behavior_preproc/completed/hc001_msit_ss_V2.mat'"
     ]
    }
   ],
   "source": [
    "for SUBJ in SUBJ_LIST:\n",
    "    rt=[]\n",
    "    conflict=[]\n",
    "    adapt=[]\n",
    "    dACC=[]\n",
    "    L_IFG=[]\n",
    "    R_IFG=[]\n",
    "    L_dlPFC=[]\n",
    "    R_dlPFC=[]\n",
    "    cond=[]\n",
    "    trial=[]\n",
    "    acc=[]\n",
    "    censor=[]\n",
    "    #---------------------------------##\n",
    "    ## Configure SS variables\n",
    "    #---------------------------------##\n",
    "    mat = loadmat(os.path.join(preproc_behav_dir,'%s_msit_ss_V2.mat') % SUBJ)\n",
    "    ## Assemble Variables\n",
    "    ss_outputs_xsmt = np.expand_dims(np.array([np.concatenate(arr) \\\n",
    "                                for arr in mat['XSmt']]).squeeze(),1)\n",
    "    ss_xsmt = normalize(ss_outputs_xsmt.squeeze())\n",
    "    #---------------------------------##\n",
    "    rt.extend([float(i) for i in np.array(mat['RT'].squeeze())])\n",
    "    conflict.extend([float(i[0]) for i in ss_xsmt])\n",
    "    adapt.extend([float(i[1]) for i in ss_xsmt])\n",
    "    acc.extend([float(i) for i in np.array(mat['Accuracy'].squeeze())])\n",
    "    trial.extend([float(i) for i in np.array(mat['Trial'].squeeze())])\n",
    "    cond.extend([float(i) for i in np.array(mat['Interference'].squeeze())])\n",
    "    #---------------------------------##\n",
    "    ## Configure ROI variables\n",
    "    #---------------------------------##\n",
    "    ## Load indiv ROI vars\n",
    "    file_1=os.path.join(LSS_dir,'%s.dACC_LSS_avg_file.1D' % SUBJ)\n",
    "    file_2=os.path.join(LSS_dir,'%s.L_IFG_LSS_avg_file.1D' % SUBJ)\n",
    "    file_3=os.path.join(LSS_dir,'%s.R_IFG_LSS_avg_file.1D' % SUBJ)\n",
    "    file_4=os.path.join(LSS_dir,'%s.L_dlPFC_LSS_avg_file.1D' % SUBJ)\n",
    "    file_5=os.path.join(LSS_dir,'%s.R_dlPFC_LSS_avg_file.1D' % SUBJ)\n",
    "    file_6=os.path.join(censor_dir,'msit.%s.msit_bsm.censor.1D' % SUBJ)\n",
    "    #---------------------------------##\n",
    "    ## Generate ROI variables\n",
    "    generate_roi_vars(file_1,dACC,\"dACC\")\n",
    "    generate_roi_vars(file_2,L_IFG,\"L_IFG\")\n",
    "    generate_roi_vars(file_3,R_IFG,\"R_IFG\")\n",
    "    generate_roi_vars(file_4,L_dlPFC,\"L_dlPFC\")\n",
    "    generate_roi_vars(file_5,R_dlPFC,\"R_dlPFC\")\n",
    "    censor_tps(file_6,censor,\"censor\")\n",
    "    #---------------------------------##\n",
    "    ## Determine group\n",
    "    s=[]\n",
    "    if 'hc' in SUBJ:\n",
    "        s.append(1)\n",
    "    elif 'pp' in SUBJ:\n",
    "        s.append(2)\n",
    "    GROUP_ARR=np.array([\"%s\" % s] * len(trial))\n",
    "    group=[i.strip('[]') for i in GROUP_ARR]\n",
    "    SUBJ_ARR=np.array([\"%s\" % SUBJ] * len(trial))\n",
    "    #---------------------------------## \n",
    "    ## Interpolate missing ROI + RT data points\n",
    "    dACC = normalize(pd.Series(dACC).astype(float).interpolate())\n",
    "    R_IFG = normalize(pd.Series(R_IFG).astype(float).interpolate())\n",
    "    L_IFG = normalize(pd.Series(L_IFG).astype(float).interpolate())\n",
    "    L_dlPFC = normalize(pd.Series(L_dlPFC).astype(float).interpolate())\n",
    "    R_dlPFC = normalize(pd.Series(R_dlPFC).astype(float).interpolate())\n",
    "    rt = normalize(pd.Series(rt).astype(float).interpolate())\n",
    "    #---------------------------------## \n",
    "    df1=pd.DataFrame({\"group\":group,\"subject\":SUBJ_ARR,'rt':rt,'dACC':dACC,'L_IFG':L_IFG,'R_IFG':R_IFG,'L_dlPFC':L_dlPFC,'R_dlPFC':R_dlPFC,'trial':trial,'cond':cond,'acc':acc,'conflict':conflict,'adapt':adapt})\n",
    "    df=df.append(df1)\n",
    "#---------------------------------##\n",
    "df_hcs=df.where(df['group']=='1')\n",
    "df_hcs=df_hcs.dropna()\n",
    "df_pts=df.where(df['group']=='2')\n",
    "df_pts=df_pts.dropna()\n",
    "#---------------------------------##"
   ]
  },
  {
   "cell_type": "code",
   "execution_count": null,
   "metadata": {},
   "outputs": [],
   "source": [
    "# sns.set()\n",
    "# s=sns.catplot(x=\"dACC\",y='L_IFG',data=df,hue='group',kind='strip',ci='sd',units='subject',col=\"cond\") \n",
    "# plt.show()"
   ]
  },
  {
   "cell_type": "code",
   "execution_count": null,
   "metadata": {},
   "outputs": [],
   "source": [
    "from mpl_toolkits import mplot3d\n",
    "# import mpld3\n",
    "import numpy as np\n",
    "import matplotlib.pyplot as plt\n",
    "%matplotlib inline\n",
    "\n",
    "# fig = plt.figure()\n",
    "# ax = plt.axes(projection='3d')\n",
    "# x = df_hcs['trial']\n",
    "# y = df_hcs['dACC']\n",
    "# z = df_hcs['L_IFG']\n",
    "# ax.set_xlabel('trial')\n",
    "# ax.set_ylabel('dACC')\n",
    "# ax.set_zlabel('L_IFG')\n",
    "# ax.scatter3D(x, y, z, c=z, cmap='viridis')\n",
    "\n",
    "# fig = plt.figure()\n",
    "# ax = plt.axes(projection='3d')\n",
    "# x = df_pts['trial']\n",
    "# y = df_pts['dACC']\n",
    "# z = df_pts['L_IFG']\n",
    "# ax.set_xlabel('trial')\n",
    "# ax.set_ylabel('dACC')\n",
    "# ax.set_zlabel('L_IFG')\n",
    "# ax.scatter3D(x, y, z, c=z, cmap='viridis')\n",
    "\n",
    "fig = plt.figure()\n",
    "ax = plt.axes(projection='3d')\n",
    "x = df_pts['trial']\n",
    "y = df_pts['adapt']\n",
    "z = df_pts['conflict']\n",
    "ax.set_xlabel('trial')\n",
    "ax.set_ylabel('adapt')\n",
    "ax.set_zlabel('conflict')\n",
    "ax.scatter3D(x, y, z, c=z, cmap='viridis')"
   ]
  },
  {
   "cell_type": "code",
   "execution_count": null,
   "metadata": {},
   "outputs": [],
   "source": []
  }
 ],
 "metadata": {
  "kernelspec": {
   "display_name": "Python 2",
   "language": "python",
   "name": "python2"
  },
  "language_info": {
   "codemirror_mode": {
    "name": "ipython",
    "version": 2
   },
   "file_extension": ".py",
   "mimetype": "text/x-python",
   "name": "python",
   "nbconvert_exporter": "python",
   "pygments_lexer": "ipython2",
   "version": "2.7.15"
  }
 },
 "nbformat": 4,
 "nbformat_minor": 2
}
