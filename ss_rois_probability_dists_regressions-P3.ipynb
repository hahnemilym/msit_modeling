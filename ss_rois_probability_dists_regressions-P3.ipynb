{
 "cells": [
  {
   "cell_type": "code",
   "execution_count": 1,
   "metadata": {},
   "outputs": [
    {
     "name": "stderr",
     "output_type": "stream",
     "text": [
      "/Users/emilyhahn/anaconda2/lib/python2.7/site-packages/statsmodels/compat/pandas.py:56: FutureWarning: The pandas.core.datetools module is deprecated and will be removed in a future version. Please use the pandas.tseries module instead.\n",
      "  from pandas.core import datetools\n"
     ]
    }
   ],
   "source": [
    "import os\n",
    "import random\n",
    "import glob\n",
    "import scipy\n",
    "import numpy as np\n",
    "import pylab as plt\n",
    "import pandas as pd\n",
    "import seaborn as sns\n",
    "from scipy import stats\n",
    "from pandas import read_csv\n",
    "import matplotlib.pyplot as plt\n",
    "from matplotlib import pyplot as mp\n",
    "import statsmodels.api as sm\n",
    "import statsmodels.formula.api as smf\n",
    "from scipy.io import savemat, loadmat\n",
    "from sklearn import datasets, linear_model, preprocessing\n",
    "import scipy.stats as st\n",
    "from scipy.stats import probplot, pearsonr\n",
    "from sklearn.preprocessing import scale,robust_scale\n",
    "from sklearn.metrics import mean_squared_error, r2_score\n",
    "from scipy import interp\n",
    "from sklearn import svm, datasets\n",
    "from sklearn.metrics import roc_curve, auc\n",
    "from sklearn.model_selection import StratifiedKFold\n",
    "from sklearn.model_selection import train_test_split\n",
    "from sklearn.ensemble import RandomForestClassifier\n",
    "from sklearn import metrics\n",
    "from sklearn.model_selection import cross_val_score\n",
    "from sklearn.model_selection import ShuffleSplit"
   ]
  },
  {
   "cell_type": "markdown",
   "metadata": {},
   "source": [
    "### Configure environment"
   ]
  },
  {
   "cell_type": "code",
   "execution_count": 2,
   "metadata": {},
   "outputs": [],
   "source": [
    "dACC_group=[]\n",
    "L_dlPFC_group=[]\n",
    "R_dlPFC_group=[]\n",
    "L_IFG_group=[]\n",
    "R_IFG_group=[]\n",
    "conflict_group=[]\n",
    "adapt_group=[]\n",
    "rt_group=[]\n",
    "\n",
    "dACC_group_hc=[]\n",
    "L_dlPFC_group_hc=[]\n",
    "R_dlPFC_group_hc=[]\n",
    "L_IFG_group_hc=[]\n",
    "R_IFG_group_hc=[]\n",
    "conflict_group_hc=[]\n",
    "adapt_group_hc=[]\n",
    "rt_group_hc=[]\n",
    "\n",
    "dACC_group_pts=[]\n",
    "L_dlPFC_group_pts=[]\n",
    "R_dlPFC_group_pts=[]\n",
    "L_IFG_group_pts=[]\n",
    "R_IFG_group_pts=[]\n",
    "conflict_group_pts=[]\n",
    "adapt_group_pts=[]\n",
    "rt_group_pts=[]\n",
    "\n",
    "regions=['dACC','L_dlPFC','R_dlPFC','L_IFG','R_IFG']\n",
    "variables=['rt','adapt','conflict']\n",
    "raw_behav_dir='/Users/emilyhahn/projects/msit_modeling/behavior_preproc/msit_mri_behav'\n",
    "preproc_behav_dir='/Users/emilyhahn/projects/msit_modeling/behavior_preproc/completed'\n",
    "LSS_dir='/Users/emilyhahn/projects/msit_modeling/LSS_AVG'\n",
    "LSS_estim_dir='/Users/emilyhahn/projects/msit_modeling/LSS_AVG_estim'\n",
    "censor_dir='/Users/emilyhahn/projects/msit_modeling/censor_data'\n",
    "AIC_output='/Users/emilyhahn/projects/msit_modeling/AIC_output'\n",
    "rf_dir = '/Users/emilyhahn/projects/msit_modeling/rf_output'\n",
    "\n",
    "df=pd.DataFrame({'group':[],'subject':[],'dACC':[],'L_IFG':[],'R_IFG':[],'L_dlPFC':[],'R_dlPFC':[],'trial':[],'cond':[],'acc':[],'rt':[],'conflict':[],'adapt':[]})\n",
    "df_I=pd.DataFrame({'group':[],'subject':[],'dACC':[],'L_IFG':[],'R_IFG':[],'L_dlPFC':[],'R_dlPFC':[],'trial':[],'cond':[],'acc':[],'rt':[],'conflict':[],'adapt':[]})\n",
    "df_C=pd.DataFrame({'group':[],'subject':[],'dACC':[],'L_IFG':[],'R_IFG':[],'L_dlPFC':[],'R_dlPFC':[],'trial':[],'cond':[],'acc':[],'rt':[],'conflict':[],'adapt':[]})\n",
    "df_I_C=pd.DataFrame({\"group\":[],\"subject\":[],'rt':[],'dACC':[],'L_IFG':[],'R_IFG':[],'L_dlPFC':[],'R_dlPFC':[],'acc':[],'conflict':[],'adapt':[]})\n",
    "\n",
    "df_I_epoch_first45=pd.DataFrame({\"group\":[],\"subject\":[],'rt':[],'dACC':[],'L_IFG':[],'R_IFG':[],'L_dlPFC':[],'R_dlPFC':[],'acc':[],'conflict':[],'adapt':[]})\n",
    "df_C_epoch_first45=pd.DataFrame({\"group\":[],\"subject\":[],'rt':[],'dACC':[],'L_IFG':[],'R_IFG':[],'L_dlPFC':[],'R_dlPFC':[],'acc':[],'conflict':[],'adapt':[]})"
   ]
  },
  {
   "cell_type": "markdown",
   "metadata": {},
   "source": [
    "### Define Subjects"
   ]
  },
  {
   "cell_type": "code",
   "execution_count": 3,
   "metadata": {
    "scrolled": true
   },
   "outputs": [],
   "source": [
    "SUBJ_LIST = ['hc001','hc002','hc003','hc005','hc006','hc010','hc011','hc012','hc014',\\\n",
    "             'hc015','hc017','hc019','hc021','hc028','hc031','hc032','hc033','hc034',\\\n",
    "             'hc036','hc038','hc042','pp001','pp002','pp003','pp004','pp005','pp006',\\\n",
    "             'pp010','pp011','pp012','pp013','pp015','pp016']"
   ]
  },
  {
   "cell_type": "markdown",
   "metadata": {},
   "source": [
    "### Define Functions - Data Structs"
   ]
  },
  {
   "cell_type": "code",
   "execution_count": 4,
   "metadata": {
    "scrolled": true
   },
   "outputs": [],
   "source": [
    "total_outliers=[]\n",
    "def remove_outliers(rt_var,RT_arr,sub):\n",
    "    elements=[i for i in RT_arr]\n",
    "    mean = np.nanmean(elements)\n",
    "    sd = np.nanstd(elements)\n",
    "    sd_lower = mean - 5 * sd\n",
    "    sd_upper = mean + 5 * sd\n",
    "    for x in elements:\n",
    "        if (sd_lower <= x <= sd_upper):\n",
    "            rt_var.append(x)\n",
    "        else:\n",
    "            rt_var.append('NaN')\n",
    "            print '%s\\n%.2f RT value excluded: not in range SD min (%.2f) to SD max (%.2f)' % (sub,x,sd_lower,sd_upper)\n",
    "    return\n",
    "\n",
    "def generate_roi_vars(roi_file,region,var,sub):\n",
    "    elements=[]\n",
    "    with open(roi_file, 'r') as file:\n",
    "        for line in file:\n",
    "            line=line.strip()\n",
    "            line=float(line)\n",
    "            elements.append(line)\n",
    "    mean = np.nanmean(elements)\n",
    "    sd = np.nanstd(elements)\n",
    "    sd_lower = mean - 5 * sd\n",
    "    sd_upper = mean + 5 * sd\n",
    "    for x in elements:\n",
    "        if (sd_lower <= x <= sd_upper):\n",
    "            region.append(x)\n",
    "        else:\n",
    "            region.append('NaN')\n",
    "            total_outliers.append(x)\n",
    "            print '%s\\n%.2f %s beta excluded: not in range SD min (%.2f) to SD max (%.2f)' % (sub,x,var,sd_lower,sd_upper) \n",
    "    return\n",
    "\n",
    "def censor_tps(censor_file,censor_var,var):\n",
    "    with open(censor_file, 'r') as file:\n",
    "        for line in file:\n",
    "            line=line.strip()\n",
    "            censor_var.append(line)\n",
    "    return\n",
    "\n",
    "def build_plots(ROI,variable,df_type,group,cond,sub):\n",
    "    slope, intercept, r_value, p_value, std_err = \\\n",
    "            stats.linregress(df_type['%s' % variable],df_type['%s' % ROI])\n",
    "#     if (p_value <= 1):\n",
    "    sns.set()\n",
    "    g=sns.JointGrid(x='%s' % variable, y='%s' % ROI, data=df_type)\n",
    "    g=g.plot(sns.regplot,sns.distplot)\n",
    "    lin_reg_r = lambda a, b: stats.linregress(df_type['%s' % variable], df_type['%s' % ROI])[2:4]\n",
    "    g = g.annotate(lin_reg_r, template=\"{stat}: {val:.2f} $p=$ {p:.2f}\",stat=\"$r=$\",loc=\"upper left\")                                                                        \n",
    "    plt.subplots_adjust(top=0.93)\n",
    "#     g.fig.suptitle(\"%s | %s\" % (group,cond))\n",
    "    g.fig.suptitle(\"%s | %s | %s\" % (group,cond,sub))\n",
    "#     g.savefig('/Users/emilyhahn/projects/msit_modeling/figures/%s_%s_%s_%s.png' % (ROI,variable,group,cond))\n",
    "    plt.show()\n",
    "#     else:\n",
    "#         print \"**** %s %s %s not significant ****\" % (SUBJ,ROI,cond)\n",
    "    return"
   ]
  },
  {
   "cell_type": "markdown",
   "metadata": {},
   "source": [
    "### Assemble Indiv and Group Data - SS output, ROI data\n",
    "    This module generates DataFrames:\n",
    "    df = ALL subjects, ALL trials\n",
    "    df_I = ALL subjects, Incongruent trials\n",
    "    df_C = ALL subjects, Congruent trials\n",
    "    df_I_C =ALL subjects, Incongruent-Congruent trials\n",
    "    df_hcs = CTRL subjects, ALL trials\n",
    "    df_pts = PSYCH subjects, ALL trials\n",
    "    df_hcs_I = CTRL subjects, Incongruent trials\n",
    "    df_pts_I = PSYCH subjects, Incongruent trials\n",
    "    df_hcs_C = CTRL subjects, Congruent trials\n",
    "    df_pts_C = PSYCH subjects, Congruent trials"
   ]
  },
  {
   "cell_type": "code",
   "execution_count": 5,
   "metadata": {
    "scrolled": true
   },
   "outputs": [
    {
     "name": "stdout",
     "output_type": "stream",
     "text": [
      "hc005\n",
      "8.68 dACC beta excluded: not in range SD min (-4.03) to SD max (4.25)\n",
      "hc006\n",
      "nan RT value excluded: not in range SD min (-0.33) to SD max (2.45)\n",
      "hc019\n",
      "nan RT value excluded: not in range SD min (-0.02) to SD max (2.26)\n",
      "hc019\n",
      "nan RT value excluded: not in range SD min (-0.02) to SD max (2.26)\n",
      "hc019\n",
      "nan RT value excluded: not in range SD min (-0.02) to SD max (2.26)\n",
      "hc019\n",
      "nan RT value excluded: not in range SD min (-0.02) to SD max (2.26)\n",
      "hc021\n",
      "nan RT value excluded: not in range SD min (0.04) to SD max (2.09)\n",
      "hc028\n",
      "nan RT value excluded: not in range SD min (-0.45) to SD max (1.98)\n",
      "hc031\n",
      "nan RT value excluded: not in range SD min (-0.17) to SD max (1.79)\n",
      "hc031\n",
      "nan RT value excluded: not in range SD min (-0.17) to SD max (1.79)\n",
      "hc031\n",
      "nan RT value excluded: not in range SD min (-0.17) to SD max (1.79)\n",
      "hc031\n",
      "nan RT value excluded: not in range SD min (-0.17) to SD max (1.79)\n",
      "hc031\n",
      "nan RT value excluded: not in range SD min (-0.17) to SD max (1.79)\n",
      "hc031\n",
      "nan RT value excluded: not in range SD min (-0.17) to SD max (1.79)\n",
      "hc031\n",
      "nan RT value excluded: not in range SD min (-0.17) to SD max (1.79)\n",
      "hc031\n",
      "nan RT value excluded: not in range SD min (-0.17) to SD max (1.79)\n",
      "hc036\n",
      "nan RT value excluded: not in range SD min (-0.29) to SD max (1.79)\n",
      "hc038\n",
      "8.33 L_dlPFC beta excluded: not in range SD min (-7.00) to SD max (7.27)\n",
      "hc042\n",
      "0.46 R_dlPFC beta excluded: not in range SD min (-0.40) to SD max (0.45)\n",
      "hc042\n",
      "0.48 R_dlPFC beta excluded: not in range SD min (-0.40) to SD max (0.45)\n",
      "pp004\n",
      "nan RT value excluded: not in range SD min (-0.26) to SD max (2.59)\n",
      "pp004\n",
      "nan RT value excluded: not in range SD min (-0.26) to SD max (2.59)\n",
      "pp004\n",
      "nan RT value excluded: not in range SD min (-0.26) to SD max (2.59)\n",
      "pp004\n",
      "nan RT value excluded: not in range SD min (-0.26) to SD max (2.59)\n",
      "pp004\n",
      "nan RT value excluded: not in range SD min (-0.26) to SD max (2.59)\n",
      "pp004\n",
      "nan RT value excluded: not in range SD min (-0.26) to SD max (2.59)\n",
      "pp004\n",
      "nan RT value excluded: not in range SD min (-0.26) to SD max (2.59)\n",
      "pp004\n",
      "nan RT value excluded: not in range SD min (-0.26) to SD max (2.59)\n",
      "pp004\n",
      "1.51 R_IFG beta excluded: not in range SD min (-1.10) to SD max (1.25)\n",
      "pp006\n",
      "nan RT value excluded: not in range SD min (-0.28) to SD max (2.48)\n",
      "pp006\n",
      "nan RT value excluded: not in range SD min (-0.28) to SD max (2.48)\n",
      "pp006\n",
      "nan RT value excluded: not in range SD min (-0.28) to SD max (2.48)\n",
      "pp006\n",
      "3.74 R_IFG beta excluded: not in range SD min (-2.91) to SD max (3.04)\n",
      "pp006\n",
      "2.41 L_dlPFC beta excluded: not in range SD min (-1.76) to SD max (2.02)\n",
      "pp012\n",
      "nan RT value excluded: not in range SD min (-0.33) to SD max (2.29)\n",
      "pp012\n",
      "nan RT value excluded: not in range SD min (-0.33) to SD max (2.29)\n",
      "pp013\n",
      "0.09 L_dlPFC beta excluded: not in range SD min (-0.08) to SD max (0.08)\n",
      "pp013\n",
      "0.08 L_dlPFC beta excluded: not in range SD min (-0.08) to SD max (0.08)\n",
      "pp015\n",
      "nan RT value excluded: not in range SD min (-0.14) to SD max (1.79)\n"
     ]
    }
   ],
   "source": [
    "for SUBJ in SUBJ_LIST:\n",
    "    rt=[]\n",
    "    RT=[]\n",
    "    RT_orig=[]\n",
    "    conflict=[]\n",
    "    adapt=[]\n",
    "    dACC=[]\n",
    "    L_IFG=[]\n",
    "    R_IFG=[]\n",
    "    L_dlPFC=[]\n",
    "    R_dlPFC=[]\n",
    "    cond=[]\n",
    "    trial=[]\n",
    "    acc=[]\n",
    "    censor=[]        \n",
    "    #---------------------------------##\n",
    "    ## Configure SS variables\n",
    "    #---------------------------------##\n",
    "    mat = loadmat(os.path.join(preproc_behav_dir,'%s_msit_ss_iter250.mat') % SUBJ)\n",
    "    #---------------------------------##\n",
    "    ss_outputs_xsmt = np.expand_dims(np.array([np.concatenate(arr) \\\n",
    "                                for arr in mat['XSmt']]).squeeze(),1)\n",
    "    ss_xsmt = ss_outputs_xsmt.squeeze()\n",
    "    RT.extend([float(i) for i in np.array(mat['RT'].squeeze())])\n",
    "    remove_outliers(rt,RT,SUBJ)\n",
    "    #---------------------------------##\n",
    "    conflict.extend([float(i[0]) for i in ss_xsmt])\n",
    "    adapt.extend([float(i[1]) for i in ss_xsmt])\n",
    "    acc.extend([float(i) for i in np.array(mat['Accuracy'].squeeze())])\n",
    "    trial.extend([float(i) for i in np.array(mat['Trial'].squeeze())])\n",
    "    cond.extend([float(i) for i in np.array(mat['Interference'].squeeze())])\n",
    "    #---------------------------------##\n",
    "    ## Configure ROI variables\n",
    "    #---------------------------------##\n",
    "    ## Load indiv ROI vars\n",
    "    file_1=os.path.join(LSS_dir,'%s.dACC_LSS_avg_file.1D' % SUBJ)\n",
    "    file_2=os.path.join(LSS_dir,'%s.L_IFG_LSS_avg_file.1D' % SUBJ)\n",
    "    file_3=os.path.join(LSS_dir,'%s.R_IFG_LSS_avg_file.1D' % SUBJ)\n",
    "    file_4=os.path.join(LSS_dir,'%s.L_dlPFC_LSS_avg_file.1D' % SUBJ)\n",
    "    file_5=os.path.join(LSS_dir,'%s.R_dlPFC_LSS_avg_file.1D' % SUBJ)\n",
    "    file_6=os.path.join(censor_dir,'msit.%s.msit_bsm.censor.1D' % SUBJ)\n",
    "    #---------------------------------##\n",
    "    ## Generate ROI variables\n",
    "    generate_roi_vars(file_1,dACC,\"dACC\",SUBJ)\n",
    "    generate_roi_vars(file_2,L_IFG,\"L_IFG\",SUBJ)\n",
    "    generate_roi_vars(file_3,R_IFG,\"R_IFG\",SUBJ)\n",
    "    generate_roi_vars(file_4,L_dlPFC,\"L_dlPFC\",SUBJ)\n",
    "    generate_roi_vars(file_5,R_dlPFC,\"R_dlPFC\",SUBJ)\n",
    "    #---------------------------------##\n",
    "    censor_tps(file_6,censor,\"censor\")\n",
    "    #---------------------------------##\n",
    "    ## insert RT outliers scrubbing function here\n",
    "    #---------------------------------##\n",
    "    ## Determine group\n",
    "    s=[]\n",
    "    if 'hc' in SUBJ:\n",
    "        s.append(0)\n",
    "    elif 'pp' in SUBJ:\n",
    "        s.append(1)\n",
    "    GROUP_ARR=np.array([\"%s\" % s] * len(trial))\n",
    "    group=[float(i.strip('[]')) for i in GROUP_ARR]\n",
    "    SUBJ_ARR=np.array([\"%s\" % SUBJ] * len(trial))\n",
    "    #---------------------------------## \n",
    "    ## Scale + interpolate missing ROI + RT data points\n",
    "    ## Configure this section to statistically appropriate scaling\n",
    "    \n",
    "    dACC = pd.Series(dACC).astype(float).interpolate()\n",
    "    R_IFG = pd.Series(R_IFG).astype(float).interpolate()\n",
    "    L_IFG = pd.Series(L_IFG).astype(float).interpolate()\n",
    "    L_dlPFC = pd.Series(L_dlPFC).astype(float).interpolate()\n",
    "    R_dlPFC = pd.Series(R_dlPFC).astype(float).interpolate()\n",
    "\n",
    "    rt = preprocessing.scale(pd.Series(rt).astype(float).interpolate())\n",
    "    #---------------------------------## \n",
    "    dACC_group.append(dACC)\n",
    "    L_dlPFC_group.append(L_dlPFC)\n",
    "    R_dlPFC_group.append(R_dlPFC)\n",
    "    L_IFG_group.append(L_IFG)\n",
    "    R_IFG_group.append(R_IFG)\n",
    "    conflict_group.append(conflict)\n",
    "    adapt_group.append(adapt)\n",
    "    rt_group.append(rt)\n",
    "    #---------------------------------##\n",
    "    if 'pp' in SUBJ_ARR[0]:\n",
    "        dACC_group_pts.append(dACC)\n",
    "        L_dlPFC_group_pts.append(L_dlPFC)\n",
    "        R_dlPFC_group_pts.append(R_dlPFC)\n",
    "        L_IFG_group_pts.append(L_IFG)\n",
    "        R_IFG_group_pts.append(R_IFG)\n",
    "        conflict_group_pts.append(conflict)\n",
    "        adapt_group_pts.append(adapt)\n",
    "        rt_group_pts.append(rt)\n",
    "    elif 'hc' in SUBJ_ARR[0]:\n",
    "        dACC_group_hc.append(dACC)\n",
    "        L_dlPFC_group_hc.append(L_dlPFC)\n",
    "        R_dlPFC_group_hc.append(R_dlPFC)\n",
    "        L_IFG_group_hc.append(L_IFG)\n",
    "        R_IFG_group_hc.append(R_IFG)\n",
    "        conflict_group_hc.append(conflict)\n",
    "        adapt_group_hc.append(adapt)  \n",
    "        rt_group_hc.append(rt)\n",
    "    else:\n",
    "        \"REVIEW SUBJ ID: %s\" % SUBJ\n",
    "    ##---------------------------------##\n",
    "    ## Append subj data to master DF\n",
    "    ##---------------------------------##\n",
    "    df1=pd.DataFrame({\"group\":group,\"subject\":SUBJ_ARR,'rt':rt,'dACC':dACC,'L_IFG':L_IFG,\\\n",
    "                      'R_IFG':R_IFG,'L_dlPFC':L_dlPFC,'R_dlPFC':R_dlPFC,'trial':trial,\\\n",
    "                      'cond':cond,'acc':acc,'conflict':conflict,'adapt':adapt})\n",
    "    ##---------------------------------##\n",
    "    ## Determine AIC, BIC\n",
    "    ##---------------------------------##\n",
    "    def OLS(equation,df_type,df_name,roi,mod):\n",
    "        t_model = smf.ols(formula = '%s' % equation, data=df_type)\n",
    "        t_lin_reg = t_model.fit()\n",
    "        pvals = t_lin_reg.pvalues\n",
    "        coeff = t_lin_reg.params\n",
    "        stderr = t_lin_reg.bse\n",
    "        AIC = t_lin_reg.aic\n",
    "        conf_lower = t_lin_reg.conf_int(alpha=0.05,cols=None)[0]\n",
    "        conf_higher = t_lin_reg.conf_int(alpha=0.05,cols=None)[1]\n",
    "        results_df = pd.DataFrame(data={\"model\":equation,\"subj\":df_name,\"p_vals\":pvals,\n",
    "                                        \"β_coef\":coeff,\"std_err\":stderr,\"CI_low\":conf_lower,\n",
    "                                        \"CI_high\":conf_higher,\"AIC\":AIC})\n",
    "        results_df.index.name = 'variable'\n",
    "        results_df.reset_index(level=0, inplace=True)\n",
    "        results_df = results_df[[\"subj\",\"model\",\"variable\",\"AIC\",\"β_coef\",\"p_vals\",\"std_err\",\"CI_low\",\"CI_high\"]]  \n",
    "        results_df.to_csv(os.path.join(AIC_output,'%s_%s_%s.csv' % (df_name,roi,mod)),sep=',',index=False)\n",
    "        return\n",
    "    ##---------------------------------##\n",
    "    for cog_roi in regions:\n",
    "        \n",
    "        OLS('%s ~ 1' % cog_roi,df1,'%s' % SUBJ, cog_roi, '1')\n",
    "        OLS('%s ~ cond + 1' % cog_roi,df1,'%s' % SUBJ, cog_roi, 'cond_1')\n",
    "        OLS('%s ~ rt + 1' % cog_roi,df1,'%s' % SUBJ, cog_roi, 'rt_1')\n",
    "        OLS('%s ~ adapt + 1' % cog_roi,df1,'%s' % SUBJ, cog_roi, 'adapt_1')\n",
    "        OLS('%s ~ conflict + 1' % cog_roi,df1,'%s' % SUBJ, cog_roi,'conflict_1')\n",
    "        OLS('%s ~ adapt + conflict + 1' % cog_roi,df1,'%s' % SUBJ, cog_roi,'adapt_conflict_1')\n",
    "        \n",
    "    ##---------------------------------##\n",
    "    ##---------------------------------##\n",
    "    df=df.append(df1)\n",
    "    df1_C=df1[df1.cond == 0]\n",
    "    df1_I=df1[df1.cond == 1]\n",
    "    ##---------------------------------##\n",
    "#     conditions = ['Incongruent','Congruent']\n",
    "#     rois = ['dACC']\n",
    "\n",
    "#     for c in conditions:\n",
    "#         for region in rois:\n",
    "#             for variable in variables:\n",
    "#                 if 'pp' in SUBJ and c=='Incongruent':\n",
    "#                     build_plots('%s' % region,'%s' % variable,df1_I,'PSYCH','%s' % c,SUBJ)\n",
    "#                 elif 'pp' in SUBJ and c=='Congruent':\n",
    "#                     build_plots('%s' % region,'%s' % variable,df1_C,'PSYCH','%s' % c,SUBJ)\n",
    "#                 elif 'hc' in SUBJ and c=='Incongruent':\n",
    "#                     build_plots('%s' % region,'%s' % variable,df1_I,'CTRL','%s' % c,SUBJ)\n",
    "#                 elif 'hc' in SUBJ and c=='Congruent':\n",
    "#                     build_plots('%s' % region,'%s' % variable,df1_C,'CTRL','%s' % c,SUBJ)\n",
    "#                 else:\n",
    "#                     print '%s %s %s %s' % (g,c,region,variable)\n",
    "    ##---------------------------------##\n",
    "    df1_C_epoch_first45=df1_C[:][0:50].reset_index(drop=True).mean(axis=0,numeric_only=True) \n",
    "    df1_I_epoch_first45=df1_I[:][0:50].reset_index(drop=True).mean(axis=0,numeric_only=True)\n",
    "    ##---------------------------------##\n",
    "    df1_C=df1_C.mean(axis=0,numeric_only=True)\n",
    "    df1_I=df1_I.mean(axis=0,numeric_only=True)\n",
    "    ##---------------------------------##\n",
    "    ##---------------------------------##\n",
    "    S=group[0]\n",
    "    df1_C['subject']=SUBJ\n",
    "    df1_C['group']=S\n",
    "    df1_I['subject']=SUBJ\n",
    "    df1_I['group']=S\n",
    "#     df1_I_epoch_first45['subject']=SUBJ\n",
    "#     df1_I_epoch_first45['group']=S\n",
    "#     df1_C_epoch_first45['subject']=SUBJ\n",
    "#     df1_C_epoch_first45['group']=S\n",
    "    ##---------------------------------##\n",
    "    df_I=df_I.append(df1_I,ignore_index=True)\n",
    "    df_C=df_C.append(df1_C,ignore_index=True)\n",
    "    \n",
    "#     df_I_epoch_first45=df_I_epoch_first45.append(df1_I_epoch_first45,ignore_index=True)\n",
    "#     df_C_epoch_first45=df_C_epoch_first45.append(df1_C_epoch_first45,ignore_index=True)\n",
    "    ##---------------------------------##\n",
    "    df1_I_C=pd.DataFrame(data={\"group\":S,\"subject\":SUBJ,'rt':df1_I['rt']-df1_C['rt']},index=[1])\n",
    "    df1_I_C={\"group\":S,\"subject\":SUBJ,\\\n",
    "             'rt':df1_I['rt']-df1_C['rt'],\\\n",
    "             'dACC':df1_I['dACC']-df1_C['dACC'],\\\n",
    "             'L_IFG': df1_I['L_IFG']-df1_C['L_IFG'],\\\n",
    "             'R_IFG': df1_I['R_IFG']-df1_C['R_IFG'],\\\n",
    "             'L_dlPFC': df1_I['L_dlPFC']-df1_C['L_dlPFC'],\\\n",
    "             'R_dlPFC': df1_I['R_dlPFC']-df1_C['R_dlPFC'],\\\n",
    "             'acc': df1_I['acc']-df1_C['acc'],\\\n",
    "             'conflict': df1_I['conflict']-df1_C['conflict'],\\\n",
    "             'adapt': df1_I['adapt']-df1_C['adapt'] }\n",
    "    df_I_C=df_I_C.append(df1_I_C,ignore_index=True)\n",
    "##---------------------------------##\n",
    "## Parse DataFrames\n",
    "##---------------------------------##\n",
    "# df_hcs=df.where(df['group']==0).dropna()\n",
    "# df_pts=df.where(df['group']==1).dropna()\n",
    "# df_hcs_I=df_I.where(df_I['group']==0).dropna().reset_index(drop=True)\n",
    "# df_pts_I=df_I.where(df_I['group']==1).dropna().reset_index(drop=True)\n",
    "# df_hcs_C=df_C.where(df_C['group']==0).dropna().reset_index(drop=True)\n",
    "# df_pts_C=df_C.where(df_C['group']==1).dropna().reset_index(drop=True)\n",
    "# df_hcs_I_epoch_first45=df_I_epoch_first45.where(df_I_epoch_first45['group']==0).dropna().reset_index(drop=True)\n",
    "# df_hcs_C_epoch_first45=df_C_epoch_first45.where(df_C_epoch_first45['group']==0).dropna().reset_index(drop=True)\n",
    "# df_pts_I_epoch_first45=df_I_epoch_first45.where(df_I_epoch_first45['group']==1).dropna().reset_index(drop=True)\n",
    "# df_pts_C_epoch_first45=df_C_epoch_first45.where(df_C_epoch_first45['group']==1).dropna().reset_index(drop=True)"
   ]
  },
  {
   "cell_type": "markdown",
   "metadata": {},
   "source": [
    "### Combine all AIC .csv files"
   ]
  },
  {
   "cell_type": "code",
   "execution_count": 6,
   "metadata": {
    "scrolled": true
   },
   "outputs": [],
   "source": [
    "# all_files = glob.glob(AIC_output + \"/*.csv\")\n",
    "\n",
    "# frame = []\n",
    "\n",
    "# for filename in all_files:\n",
    "#     df = pd.read_csv(filename, index_col=None, header=0)\n",
    "#     frame.append(df)\n",
    "\n",
    "# df_models = pd.concat(frame, axis=0, ignore_index=True)\n",
    "\n",
    "# patient_status = []\n",
    "\n",
    "# for sub in df_models['subj']:\n",
    "#     if 'hc' in sub:\n",
    "#         patient_status.append(0)\n",
    "#     elif 'pp' in sub:\n",
    "#         patient_status.append(1)\n",
    "#     else:\n",
    "#         print \"check subj id\"\n",
    "\n",
    "# df_models['patient_status']=patient_status\n",
    "# df_models = df_models.sort_values(by=['subj','model'])\n",
    "# df_models=df_models.set_index(['subj','model','variable'])\n",
    "\n",
    "# with pd.option_context('display.max_rows', None, 'display.max_columns', None):\n",
    "#     display(df_models)"
   ]
  },
  {
   "cell_type": "code",
   "execution_count": 7,
   "metadata": {
    "scrolled": true
   },
   "outputs": [],
   "source": [
    "aic_decrease_file = glob.glob(AIC_output + \"/AIC_plus_decrease_vals/*.csv\")\n",
    "\n",
    "frame_d = []\n",
    "\n",
    "for filename_d in aic_decrease_file:\n",
    "    df_d = pd.read_csv(filename_d, index_col=None, header=0)\n",
    "    frame_d.append(df_d)\n",
    "\n",
    "df_models_d = pd.concat(frame_d, axis=0, ignore_index=True)\n",
    "df_models_d = df_models_d.sort_values(by=['model','variable'])\n",
    "df_models_d = df_models_d.set_index(['model','variable'])\n",
    "\n",
    "# with pd.option_context('display.max_rows', None, 'display.max_columns', None):\n",
    "#     display(df_models_d)"
   ]
  },
  {
   "cell_type": "markdown",
   "metadata": {},
   "source": [
    "## Random Forest Classifier"
   ]
  },
  {
   "cell_type": "code",
   "execution_count": 9,
   "metadata": {},
   "outputs": [],
   "source": [
    "# display(df_models_d)\n",
    "c1_scores={}\n",
    "rand_i = np.random.randint(low=1, high=10000, size=100)\n",
    "# print rand_i"
   ]
  },
  {
   "cell_type": "code",
   "execution_count": 10,
   "metadata": {
    "scrolled": false
   },
   "outputs": [],
   "source": [
    "def Random_Forest_Classifier(X1,X2,binary_feat_X,binary_feat_y,int_seed):\n",
    "\n",
    "    F = np.random.seed(seed = int_seed)\n",
    "    \n",
    "    ## Assign X features - [rt, cond] [conflict, adapt]\n",
    "    X1_AIC_d = df_models_d.loc[('dACC ~ %s + 1' % X1,'%s' % X1),'%s' % binary_feat_X]\n",
    "    X2_AIC_d = df_models_d.loc[('dACC ~ %s + 1' % X2,'%s' % X2),'%s' % binary_feat_X]\n",
    "    \n",
    "    X3_AIC_d = df_models_d.loc[('L_IFG ~ %s + 1' % X1,'%s' % X1),'%s' % binary_feat_X]\n",
    "    X4_AIC_d = df_models_d.loc[('L_IFG ~ %s + 1' % X2,'%s' % X2),'%s' % binary_feat_X]\n",
    "    \n",
    "    X5_AIC_d = df_models_d.loc[('R_IFG ~ %s + 1' % X1,'%s' % X1),'%s' % binary_feat_X]\n",
    "    X6_AIC_d = df_models_d.loc[('R_IFG ~ %s + 1' % X2,'%s' % X2),'%s' % binary_feat_X]\n",
    "    \n",
    "    X7_AIC_d = df_models_d.loc[('L_dlPFC ~ %s + 1' % X1,'%s' % X1),'%s' % binary_feat_X]\n",
    "    X8_AIC_d = df_models_d.loc[('L_dlPFC ~ %s + 1' % X2,'%s' % X2),'%s' % binary_feat_X]\n",
    "    \n",
    "    X9_AIC_d = df_models_d.loc[('R_dlPFC ~ %s + 1' % X1,'%s' % X1),'%s' % binary_feat_X]\n",
    "    X10_AIC_d = df_models_d.loc[('R_dlPFC ~ %s + 1' % X2,'%s' % X2),'%s' % binary_feat_X]\n",
    "    \n",
    "    ## Assign y variable - [patient status]\n",
    "    Y_pt_status = df_models_d.loc[('dACC ~ %s + 1' % X1,'%s' % X1),'%s' % binary_feat_y]\n",
    "    y=np.array(Y_pt_status)\n",
    "\n",
    "    X,X_features=np.stack((X1_AIC_d,X2_AIC_d,X3_AIC_d,X4_AIC_d,X5_AIC_d,\n",
    "                           X6_AIC_d,X7_AIC_d,X8_AIC_d,X9_AIC_d,X10_AIC_d),\n",
    "                          axis=1),['dACC_%s' % X1,'dACC_%s' % X2,'L_IFG_%s' % X1,\n",
    "                                   'L_IFG_%s' % X2,'R_IFG_%s' % X1,'R_IFG_%s' % X2,\n",
    "                                   'L_dlPFC_%s' % X1,'L_dlPFC_%s' % X2,'R_dlPFC_%s' % X1,\n",
    "                                   'R_dlPFC_%s' % X2]    \n",
    "    \n",
    "    ## Configure RF classifier\n",
    "    clf=RandomForestClassifier(n_estimators=100)\n",
    "\n",
    "    ## CV\n",
    "    folds=5\n",
    "    \n",
    "    cv = ShuffleSplit(n_splits=folds, test_size=0.2, random_state=F)\n",
    "    scores = cross_val_score(clf, X, y, cv=cv,scoring='balanced_accuracy',error_score='raise')  \n",
    "    \n",
    "    ## Evaluate results\n",
    "    ci = st.t.interval(0.95, len(scores)-1, loc=np.mean(scores), scale=st.sem(scores))\n",
    "    c1_scores.update({'rand_i': {int_seed:int_seed}})\n",
    "    c1_scores.update({'%s_%s' % (X1,X2): {int_seed:ci}})\n",
    "    c1_scores.update({'%s_%s_mean' % (X1,X2): {int_seed:scores.mean()}})\n",
    "    \n",
    "#     display(c1_scores)\n",
    "    \n",
    "#     print(\"AIC_ROIs_%s_%s | Scores: %s\" % (X1,X2,scores))\n",
    "#     title= \"AIC_ROIs_%s_%s | \\n mean: %.2f, ci_lower %.2f, ci_upper: %.2f\" % (X1,X2,scores.mean(), ci[0],ci[1])\n",
    "        \n",
    "#     sns.set()\n",
    "#     r_scale=np.array(range(1,folds+1))\n",
    "#     ax=sns.barplot(r_scale,scores,edgecolor=(0,0,0),yerr=scores.std(),palette='Blues_d')\n",
    "#     ax.set(xlabel='CV Fold #', ylabel='Balanced Accuracy Score')\n",
    "#     ax.set(title=title)\n",
    "#     plt.show()\n",
    "    \n",
    "    return c1_scores"
   ]
  },
  {
   "cell_type": "code",
   "execution_count": 11,
   "metadata": {
    "scrolled": true
   },
   "outputs": [
    {
     "name": "stderr",
     "output_type": "stream",
     "text": [
      "/Users/emilyhahn/anaconda2/lib/python2.7/site-packages/sklearn/metrics/classification.py:1437: UserWarning: y_pred contains classes not in y_true\n",
      "  warnings.warn('y_pred contains classes not in y_true')\n"
     ]
    },
    {
     "data": {
      "text/plain": [
       "{'conflict_adapt': {995: (0.4468923237144994, 0.8126314858093101)},\n",
       " 'conflict_adapt_mean': {995: 0.6297619047619047},\n",
       " 'rand_i': {995: 995}}"
      ]
     },
     "metadata": {},
     "output_type": "display_data"
    },
    {
     "data": {
      "text/plain": [
       "{'conflict_adapt': {5460: (0.4269069196248163, 0.936426413708517)},\n",
       " 'conflict_adapt_mean': {5460: 0.6816666666666666},\n",
       " 'rand_i': {5460: 5460}}"
      ]
     },
     "metadata": {},
     "output_type": "display_data"
    },
    {
     "data": {
      "text/plain": [
       "{'conflict_adapt': {6517: (0.32477615041998936, 0.8752238495800104)},\n",
       " 'conflict_adapt_mean': {6517: 0.5999999999999999},\n",
       " 'rand_i': {6517: 6517}}"
      ]
     },
     "metadata": {},
     "output_type": "display_data"
    },
    {
     "data": {
      "text/plain": [
       "{'conflict_adapt': {8750: (0.6011114064631299, 0.8622219268702035)},\n",
       " 'conflict_adapt_mean': {8750: 0.7316666666666667},\n",
       " 'rand_i': {8750: 8750}}"
      ]
     },
     "metadata": {},
     "output_type": "display_data"
    },
    {
     "data": {
      "text/plain": [
       "{'conflict_adapt': {1473: (0.5035877535170064, 0.9564122464829936)},\n",
       " 'conflict_adapt_mean': {1473: 0.73},\n",
       " 'rand_i': {1473: 1473}}"
      ]
     },
     "metadata": {},
     "output_type": "display_data"
    },
    {
     "data": {
      "text/plain": [
       "{'conflict_adapt': {3066: (0.44403866598789105, 0.785008953059728)},\n",
       " 'conflict_adapt_mean': {3066: 0.6145238095238095},\n",
       " 'rand_i': {3066: 3066}}"
      ]
     },
     "metadata": {},
     "output_type": "display_data"
    },
    {
     "data": {
      "text/plain": [
       "{'conflict_adapt': {4990: (0.14486758047589893, 0.8217990861907678)},\n",
       " 'conflict_adapt_mean': {4990: 0.4833333333333334},\n",
       " 'rand_i': {4990: 4990}}"
      ]
     },
     "metadata": {},
     "output_type": "display_data"
    },
    {
     "data": {
      "text/plain": [
       "{'conflict_adapt': {5672: (0.4153571019181437, 0.6513095647485228)},\n",
       " 'conflict_adapt_mean': {5672: 0.5333333333333332},\n",
       " 'rand_i': {5672: 5672}}"
      ]
     },
     "metadata": {},
     "output_type": "display_data"
    },
    {
     "data": {
      "text/plain": [
       "{'conflict_adapt': {4819: (0.21979200022452924, 0.5302079997754708)},\n",
       " 'conflict_adapt_mean': {4819: 0.37500000000000006},\n",
       " 'rand_i': {4819: 4819}}"
      ]
     },
     "metadata": {},
     "output_type": "display_data"
    },
    {
     "data": {
      "text/plain": [
       "{'conflict_adapt': {8200: (0.4085121190950395, 0.8281545475716273)},\n",
       " 'conflict_adapt_mean': {8200: 0.6183333333333334},\n",
       " 'rand_i': {8200: 8200}}"
      ]
     },
     "metadata": {},
     "output_type": "display_data"
    },
    {
     "data": {
      "text/plain": [
       "{'conflict_adapt': {8196: (0.34342203510254976, 0.7761017744212596)},\n",
       " 'conflict_adapt_mean': {8196: 0.5597619047619047},\n",
       " 'rand_i': {8196: 8196}}"
      ]
     },
     "metadata": {},
     "output_type": "display_data"
    },
    {
     "data": {
      "text/plain": [
       "{'conflict_adapt': {8105: (0.6169320743912206, 0.809734592275446)},\n",
       " 'conflict_adapt_mean': {8105: 0.7133333333333333},\n",
       " 'rand_i': {8105: 8105}}"
      ]
     },
     "metadata": {},
     "output_type": "display_data"
    },
    {
     "data": {
      "text/plain": [
       "{'conflict_adapt': {2843: (0.43757498409478, 0.8690916825718866)},\n",
       " 'conflict_adapt_mean': {2843: 0.6533333333333333},\n",
       " 'rand_i': {2843: 2843}}"
      ]
     },
     "metadata": {},
     "output_type": "display_data"
    },
    {
     "data": {
      "text/plain": [
       "{'conflict_adapt': {2469: (0.4176483784744637, 0.8480659072398219)},\n",
       " 'conflict_adapt_mean': {2469: 0.6328571428571428},\n",
       " 'rand_i': {2469: 2469}}"
      ]
     },
     "metadata": {},
     "output_type": "display_data"
    },
    {
     "data": {
      "text/plain": [
       "{'conflict_adapt': {2413: (0.20177463313938993, 0.6382253668606102)},\n",
       " 'conflict_adapt_mean': {2413: 0.42000000000000004},\n",
       " 'rand_i': {2413: 2413}}"
      ]
     },
     "metadata": {},
     "output_type": "display_data"
    },
    {
     "data": {
      "text/plain": [
       "{'conflict_adapt': {5107: (0.4945344143089334, 0.7087989190244)},\n",
       " 'conflict_adapt_mean': {5107: 0.6016666666666667},\n",
       " 'rand_i': {5107: 5107}}"
      ]
     },
     "metadata": {},
     "output_type": "display_data"
    },
    {
     "data": {
      "text/plain": [
       "{'conflict_adapt': {9643: (0.3837127866278546, 0.6929538800388121)},\n",
       " 'conflict_adapt_mean': {9643: 0.5383333333333333},\n",
       " 'rand_i': {9643: 9643}}"
      ]
     },
     "metadata": {},
     "output_type": "display_data"
    },
    {
     "data": {
      "text/plain": [
       "{'conflict_adapt': {6346: (0.5484132936881322, 0.881586706311868)},\n",
       " 'conflict_adapt_mean': {6346: 0.7150000000000001},\n",
       " 'rand_i': {6346: 6346}}"
      ]
     },
     "metadata": {},
     "output_type": "display_data"
    },
    {
     "data": {
      "text/plain": [
       "{'conflict_adapt': {8826: (0.37814583447668576, 0.9451874988566478)},\n",
       " 'conflict_adapt_mean': {8826: 0.6616666666666667},\n",
       " 'rand_i': {8826: 8826}}"
      ]
     },
     "metadata": {},
     "output_type": "display_data"
    },
    {
     "data": {
      "text/plain": [
       "{'conflict_adapt': {2449: (0.23323174385166856, 0.7934349228149983)},\n",
       " 'conflict_adapt_mean': {2449: 0.5133333333333334},\n",
       " 'rand_i': {2449: 2449}}"
      ]
     },
     "metadata": {},
     "output_type": "display_data"
    },
    {
     "data": {
      "text/plain": [
       "{'conflict_adapt': {6484: (0.4448915358856457, 0.7465370355429258)},\n",
       " 'conflict_adapt_mean': {6484: 0.5957142857142858},\n",
       " 'rand_i': {6484: 6484}}"
      ]
     },
     "metadata": {},
     "output_type": "display_data"
    },
    {
     "data": {
      "text/plain": [
       "{'conflict_adapt': {5520: (0.4144069921791451, 0.8322596744875215)},\n",
       " 'conflict_adapt_mean': {5520: 0.6233333333333333},\n",
       " 'rand_i': {5520: 5520}}"
      ]
     },
     "metadata": {},
     "output_type": "display_data"
    },
    {
     "data": {
      "text/plain": [
       "{'conflict_adapt': {3993: (0.28979446504352213, 0.8435388682898112)},\n",
       " 'conflict_adapt_mean': {3993: 0.5666666666666667},\n",
       " 'rand_i': {3993: 3993}}"
      ]
     },
     "metadata": {},
     "output_type": "display_data"
    },
    {
     "data": {
      "text/plain": [
       "{'conflict_adapt': {133: (0.28357489268432795, 0.7926155835061484)},\n",
       " 'conflict_adapt_mean': {133: 0.5380952380952382},\n",
       " 'rand_i': {133: 133}}"
      ]
     },
     "metadata": {},
     "output_type": "display_data"
    },
    {
     "data": {
      "text/plain": [
       "{'conflict_adapt': {1026: (0.43498344127778726, 0.7350165587222126)},\n",
       " 'conflict_adapt_mean': {1026: 0.585},\n",
       " 'rand_i': {1026: 1026}}"
      ]
     },
     "metadata": {},
     "output_type": "display_data"
    },
    {
     "data": {
      "text/plain": [
       "{'conflict_adapt': {8618: (0.5658223231815447, 0.7575110101517886)},\n",
       " 'conflict_adapt_mean': {8618: 0.6616666666666666},\n",
       " 'rand_i': {8618: 8618}}"
      ]
     },
     "metadata": {},
     "output_type": "display_data"
    },
    {
     "data": {
      "text/plain": [
       "{'conflict_adapt': {2387: (0.2431612744252805, 0.603505392241386)},\n",
       " 'conflict_adapt_mean': {2387: 0.42333333333333323},\n",
       " 'rand_i': {2387: 2387}}"
      ]
     },
     "metadata": {},
     "output_type": "display_data"
    },
    {
     "data": {
      "text/plain": [
       "{'conflict_adapt': {991: (0.4106751055485236, 0.8326582277848098)},\n",
       " 'conflict_adapt_mean': {991: 0.6216666666666667},\n",
       " 'rand_i': {991: 991}}"
      ]
     },
     "metadata": {},
     "output_type": "display_data"
    },
    {
     "data": {
      "text/plain": [
       "{'conflict_adapt': {2332: (0.34646122532829876, 0.855443536576463)},\n",
       " 'conflict_adapt_mean': {2332: 0.6009523809523809},\n",
       " 'rand_i': {2332: 2332}}"
      ]
     },
     "metadata": {},
     "output_type": "display_data"
    },
    {
     "data": {
      "text/plain": [
       "{'conflict_adapt': {6487: (0.48421603626372006, 0.6791172970696134)},\n",
       " 'conflict_adapt_mean': {6487: 0.5816666666666668},\n",
       " 'rand_i': {6487: 6487}}"
      ]
     },
     "metadata": {},
     "output_type": "display_data"
    },
    {
     "data": {
      "text/plain": [
       "{'conflict_adapt': {7672: (0.5702813379943613, 0.9730519953389721)},\n",
       " 'conflict_adapt_mean': {7672: 0.7716666666666667},\n",
       " 'rand_i': {7672: 7672}}"
      ]
     },
     "metadata": {},
     "output_type": "display_data"
    },
    {
     "data": {
      "text/plain": [
       "{'conflict_adapt': {3329: (0.3332801606532755, 0.6933865060133911)},\n",
       " 'conflict_adapt_mean': {3329: 0.5133333333333333},\n",
       " 'rand_i': {3329: 3329}}"
      ]
     },
     "metadata": {},
     "output_type": "display_data"
    },
    {
     "data": {
      "text/plain": [
       "{'conflict_adapt': {4376: (0.5895845773130731, 0.7370820893535935)},\n",
       " 'conflict_adapt_mean': {4376: 0.6633333333333333},\n",
       " 'rand_i': {4376: 4376}}"
      ]
     },
     "metadata": {},
     "output_type": "display_data"
    },
    {
     "data": {
      "text/plain": [
       "{'conflict_adapt': {5081: (0.5340539992328134, 0.7692793341005199)},\n",
       " 'conflict_adapt_mean': {5081: 0.6516666666666666},\n",
       " 'rand_i': {5081: 5081}}"
      ]
     },
     "metadata": {},
     "output_type": "display_data"
    },
    {
     "data": {
      "text/plain": [
       "{'conflict_adapt': {7419: (0.29215531141491274, 0.7968923076327064)},\n",
       " 'conflict_adapt_mean': {7419: 0.5445238095238095},\n",
       " 'rand_i': {7419: 7419}}"
      ]
     },
     "metadata": {},
     "output_type": "display_data"
    },
    {
     "data": {
      "text/plain": [
       "{'conflict_adapt': {7501: (0.42386664758992937, 0.8161333524100705)},\n",
       " 'conflict_adapt_mean': {7501: 0.6199999999999999},\n",
       " 'rand_i': {7501: 7501}}"
      ]
     },
     "metadata": {},
     "output_type": "display_data"
    },
    {
     "data": {
      "text/plain": [
       "{'conflict_adapt': {3049: (0.4149036596534801, 0.7850963403465199)},\n",
       " 'conflict_adapt_mean': {3049: 0.6},\n",
       " 'rand_i': {3049: 3049}}"
      ]
     },
     "metadata": {},
     "output_type": "display_data"
    },
    {
     "data": {
      "text/plain": [
       "{'conflict_adapt': {4021: (0.4655908767483596, 1.011075789918307)},\n",
       " 'conflict_adapt_mean': {4021: 0.7383333333333333},\n",
       " 'rand_i': {4021: 4021}}"
      ]
     },
     "metadata": {},
     "output_type": "display_data"
    },
    {
     "data": {
      "text/plain": [
       "{'conflict_adapt': {2201: (0.4207974259423257, 0.735869240724341)},\n",
       " 'conflict_adapt_mean': {2201: 0.5783333333333334},\n",
       " 'rand_i': {2201: 2201}}"
      ]
     },
     "metadata": {},
     "output_type": "display_data"
    },
    {
     "data": {
      "text/plain": [
       "{'conflict_adapt': {7979: (0.35838882662118465, 0.7549445067121486)},\n",
       " 'conflict_adapt_mean': {7979: 0.5566666666666666},\n",
       " 'rand_i': {7979: 7979}}"
      ]
     },
     "metadata": {},
     "output_type": "display_data"
    },
    {
     "data": {
      "text/plain": [
       "{'conflict_adapt': {341: (0.4934285223017726, 0.7765714776982274)},\n",
       " 'conflict_adapt_mean': {341: 0.635},\n",
       " 'rand_i': {341: 341}}"
      ]
     },
     "metadata": {},
     "output_type": "display_data"
    },
    {
     "data": {
      "text/plain": [
       "{'conflict_adapt': {190: (0.24872519724684594, 0.6979414694198207)},\n",
       " 'conflict_adapt_mean': {190: 0.47333333333333333},\n",
       " 'rand_i': {190: 190}}"
      ]
     },
     "metadata": {},
     "output_type": "display_data"
    },
    {
     "data": {
      "text/plain": [
       "{'conflict_adapt': {5866: (0.3202760525861723, 0.5263906140804944)},\n",
       " 'conflict_adapt_mean': {5866: 0.42333333333333334},\n",
       " 'rand_i': {5866: 5866}}"
      ]
     },
     "metadata": {},
     "output_type": "display_data"
    },
    {
     "data": {
      "text/plain": [
       "{'conflict_adapt': {3571: (0.3254443118316866, 1.0078890215016467)},\n",
       " 'conflict_adapt_mean': {3571: 0.6666666666666666},\n",
       " 'rand_i': {3571: 3571}}"
      ]
     },
     "metadata": {},
     "output_type": "display_data"
    },
    {
     "data": {
      "text/plain": [
       "{'conflict_adapt': {8963: (0.4131438261590358, 0.7968561738409642)},\n",
       " 'conflict_adapt_mean': {8963: 0.605},\n",
       " 'rand_i': {8963: 8963}}"
      ]
     },
     "metadata": {},
     "output_type": "display_data"
    },
    {
     "data": {
      "text/plain": [
       "{'conflict_adapt': {2329: (0.30025520051637766, 0.736411466150289)},\n",
       " 'conflict_adapt_mean': {2329: 0.5183333333333333},\n",
       " 'rand_i': {2329: 2329}}"
      ]
     },
     "metadata": {},
     "output_type": "display_data"
    },
    {
     "data": {
      "text/plain": [
       "{'conflict_adapt': {7015: (0.5308891958733345, 0.6791108041266655)},\n",
       " 'conflict_adapt_mean': {7015: 0.605},\n",
       " 'rand_i': {7015: 7015}}"
      ]
     },
     "metadata": {},
     "output_type": "display_data"
    },
    {
     "data": {
      "text/plain": [
       "{'conflict_adapt': {8625: (0.37563558177725426, 0.8043644182227456)},\n",
       " 'conflict_adapt_mean': {8625: 0.59},\n",
       " 'rand_i': {8625: 8625}}"
      ]
     },
     "metadata": {},
     "output_type": "display_data"
    },
    {
     "data": {
      "text/plain": [
       "{'conflict_adapt': {5709: (0.5879692588160603, 0.9353640745172727)},\n",
       " 'conflict_adapt_mean': {5709: 0.7616666666666665},\n",
       " 'rand_i': {5709: 5709}}"
      ]
     },
     "metadata": {},
     "output_type": "display_data"
    },
    {
     "data": {
      "text/plain": [
       "{'conflict_adapt': {5522: (0.41679750873048443, 0.9932024912695154)},\n",
       " 'conflict_adapt_mean': {5522: 0.705},\n",
       " 'rand_i': {5522: 5522}}"
      ]
     },
     "metadata": {},
     "output_type": "display_data"
    },
    {
     "data": {
      "text/plain": [
       "{'conflict_adapt': {9254: (0.34684470254854893, 0.8864886307847845)},\n",
       " 'conflict_adapt_mean': {9254: 0.6166666666666667},\n",
       " 'rand_i': {9254: 9254}}"
      ]
     },
     "metadata": {},
     "output_type": "display_data"
    },
    {
     "data": {
      "text/plain": [
       "{'conflict_adapt': {6178: (0.37303565287721574, 0.7269643471227843)},\n",
       " 'conflict_adapt_mean': {6178: 0.55},\n",
       " 'rand_i': {6178: 6178}}"
      ]
     },
     "metadata": {},
     "output_type": "display_data"
    },
    {
     "data": {
      "text/plain": [
       "{'conflict_adapt': {608: (0.3544147783271041, 0.775585221672896)},\n",
       " 'conflict_adapt_mean': {608: 0.5650000000000001},\n",
       " 'rand_i': {608: 608}}"
      ]
     },
     "metadata": {},
     "output_type": "display_data"
    },
    {
     "data": {
      "text/plain": [
       "{'conflict_adapt': {1622: (0.3680706926337306, 0.8919293073662694)},\n",
       " 'conflict_adapt_mean': {1622: 0.63},\n",
       " 'rand_i': {1622: 1622}}"
      ]
     },
     "metadata": {},
     "output_type": "display_data"
    },
    {
     "data": {
      "text/plain": [
       "{'conflict_adapt': {108: (0.6403170241366144, 0.7487305949110047)},\n",
       " 'conflict_adapt_mean': {108: 0.6945238095238095},\n",
       " 'rand_i': {108: 108}}"
      ]
     },
     "metadata": {},
     "output_type": "display_data"
    },
    {
     "data": {
      "text/plain": [
       "{'conflict_adapt': {9657: (0.556110385265031, 0.733889614734969)},\n",
       " 'conflict_adapt_mean': {9657: 0.645},\n",
       " 'rand_i': {9657: 9657}}"
      ]
     },
     "metadata": {},
     "output_type": "display_data"
    },
    {
     "data": {
      "text/plain": [
       "{'conflict_adapt': {419: (0.1845910384282422, 0.7954089615717579)},\n",
       " 'conflict_adapt_mean': {419: 0.49000000000000005},\n",
       " 'rand_i': {419: 419}}"
      ]
     },
     "metadata": {},
     "output_type": "display_data"
    },
    {
     "data": {
      "text/plain": [
       "{'conflict_adapt': {2584: (0.4098374561218875, 0.7858768295923982)},\n",
       " 'conflict_adapt_mean': {2584: 0.5978571428571429},\n",
       " 'rand_i': {2584: 2584}}"
      ]
     },
     "metadata": {},
     "output_type": "display_data"
    },
    {
     "data": {
      "text/plain": [
       "{'conflict_adapt': {1936: (0.5346024951312955, 0.7087308382020379)},\n",
       " 'conflict_adapt_mean': {1936: 0.6216666666666667},\n",
       " 'rand_i': {1936: 1936}}"
      ]
     },
     "metadata": {},
     "output_type": "display_data"
    },
    {
     "data": {
      "text/plain": [
       "{'conflict_adapt': {8173: (0.47220247726882386, 0.7944641893978426)},\n",
       " 'conflict_adapt_mean': {8173: 0.6333333333333332},\n",
       " 'rand_i': {8173: 8173}}"
      ]
     },
     "metadata": {},
     "output_type": "display_data"
    },
    {
     "data": {
      "text/plain": [
       "{'conflict_adapt': {3046: (0.4489614432826829, 0.8177052233839837)},\n",
       " 'conflict_adapt_mean': {3046: 0.6333333333333333},\n",
       " 'rand_i': {3046: 3046}}"
      ]
     },
     "metadata": {},
     "output_type": "display_data"
    },
    {
     "data": {
      "text/plain": [
       "{'conflict_adapt': {3274: (0.46448445755529366, 0.6788488757780394)},\n",
       " 'conflict_adapt_mean': {3274: 0.5716666666666665},\n",
       " 'rand_i': {3274: 3274}}"
      ]
     },
     "metadata": {},
     "output_type": "display_data"
    },
    {
     "data": {
      "text/plain": [
       "{'conflict_adapt': {8152: (0.49205939242326135, 0.9679406075767384)},\n",
       " 'conflict_adapt_mean': {8152: 0.7299999999999999},\n",
       " 'rand_i': {8152: 8152}}"
      ]
     },
     "metadata": {},
     "output_type": "display_data"
    },
    {
     "data": {
      "text/plain": [
       "{'conflict_adapt': {5286: (0.36018397544171815, 0.6564826912249484)},\n",
       " 'conflict_adapt_mean': {5286: 0.5083333333333333},\n",
       " 'rand_i': {5286: 5286}}"
      ]
     },
     "metadata": {},
     "output_type": "display_data"
    },
    {
     "data": {
      "text/plain": [
       "{'conflict_adapt': {7959: (0.25747515328027754, 0.5858581800530558)},\n",
       " 'conflict_adapt_mean': {7959: 0.4216666666666667},\n",
       " 'rand_i': {7959: 7959}}"
      ]
     },
     "metadata": {},
     "output_type": "display_data"
    },
    {
     "data": {
      "text/plain": [
       "{'conflict_adapt': {9768: (0.34243473187607376, 0.8008986014572596)},\n",
       " 'conflict_adapt_mean': {9768: 0.5716666666666667},\n",
       " 'rand_i': {9768: 9768}}"
      ]
     },
     "metadata": {},
     "output_type": "display_data"
    },
    {
     "data": {
      "text/plain": [
       "{'conflict_adapt': {6782: (0.473105093118694, 0.7602282402146392)},\n",
       " 'conflict_adapt_mean': {6782: 0.6166666666666666},\n",
       " 'rand_i': {6782: 6782}}"
      ]
     },
     "metadata": {},
     "output_type": "display_data"
    },
    {
     "data": {
      "text/plain": [
       "{'conflict_adapt': {3179: (0.2893262001852977, 0.7240071331480356)},\n",
       " 'conflict_adapt_mean': {3179: 0.5066666666666666},\n",
       " 'rand_i': {3179: 3179}}"
      ]
     },
     "metadata": {},
     "output_type": "display_data"
    },
    {
     "data": {
      "text/plain": [
       "{'conflict_adapt': {2616: (0.2874948244251835, 0.9058385089081497)},\n",
       " 'conflict_adapt_mean': {2616: 0.5966666666666666},\n",
       " 'rand_i': {2616: 2616}}"
      ]
     },
     "metadata": {},
     "output_type": "display_data"
    },
    {
     "data": {
      "text/plain": [
       "{'conflict_adapt': {426: (0.450950029813745, 0.7490499701862547)},\n",
       " 'conflict_adapt_mean': {426: 0.5999999999999999},\n",
       " 'rand_i': {426: 426}}"
      ]
     },
     "metadata": {},
     "output_type": "display_data"
    },
    {
     "data": {
      "text/plain": [
       "{'conflict_adapt': {8545: (0.5075307555454482, 0.7410406730259804)},\n",
       " 'conflict_adapt_mean': {8545: 0.6242857142857143},\n",
       " 'rand_i': {8545: 8545}}"
      ]
     },
     "metadata": {},
     "output_type": "display_data"
    },
    {
     "data": {
      "text/plain": [
       "{'conflict_adapt': {18: (0.37287738382467883, 0.7537892828419877)},\n",
       " 'conflict_adapt_mean': {18: 0.5633333333333332},\n",
       " 'rand_i': {18: 18}}"
      ]
     },
     "metadata": {},
     "output_type": "display_data"
    },
    {
     "data": {
      "text/plain": [
       "{'conflict_adapt': {6050: (0.46490365965348, 0.8350963403465198)},\n",
       " 'conflict_adapt_mean': {6050: 0.6499999999999999},\n",
       " 'rand_i': {6050: 6050}}"
      ]
     },
     "metadata": {},
     "output_type": "display_data"
    },
    {
     "data": {
      "text/plain": [
       "{'conflict_adapt': {348: (0.44221550702622814, 0.8030225882118671)},\n",
       " 'conflict_adapt_mean': {348: 0.6226190476190476},\n",
       " 'rand_i': {348: 348}}"
      ]
     },
     "metadata": {},
     "output_type": "display_data"
    },
    {
     "data": {
      "text/plain": [
       "{'conflict_adapt': {4565: (0.37465804513688133, 0.8681990977202616)},\n",
       " 'conflict_adapt_mean': {4565: 0.6214285714285714},\n",
       " 'rand_i': {4565: 4565}}"
      ]
     },
     "metadata": {},
     "output_type": "display_data"
    },
    {
     "data": {
      "text/plain": [
       "{'conflict_adapt': {8306: (0.44000703216530357, 0.648564396406125)},\n",
       " 'conflict_adapt_mean': {8306: 0.5442857142857143},\n",
       " 'rand_i': {8306: 8306}}"
      ]
     },
     "metadata": {},
     "output_type": "display_data"
    },
    {
     "data": {
      "text/plain": [
       "{'conflict_adapt': {3722: (0.3694025278356923, 0.8905974721643077)},\n",
       " 'conflict_adapt_mean': {3722: 0.63},\n",
       " 'rand_i': {3722: 3722}}"
      ]
     },
     "metadata": {},
     "output_type": "display_data"
    },
    {
     "data": {
      "text/plain": [
       "{'conflict_adapt': {3982: (0.38875040026943497, 0.7612495997305649)},\n",
       " 'conflict_adapt_mean': {3982: 0.575},\n",
       " 'rand_i': {3982: 3982}}"
      ]
     },
     "metadata": {},
     "output_type": "display_data"
    },
    {
     "data": {
      "text/plain": [
       "{'conflict_adapt': {2621: (0.2990008616888584, 0.733380090692094)},\n",
       " 'conflict_adapt_mean': {2621: 0.5161904761904762},\n",
       " 'rand_i': {2621: 2621}}"
      ]
     },
     "metadata": {},
     "output_type": "display_data"
    },
    {
     "data": {
      "text/plain": [
       "{'conflict_adapt': {8850: (0.37832798821809455, 0.6150053451152389)},\n",
       " 'conflict_adapt_mean': {8850: 0.4966666666666667},\n",
       " 'rand_i': {8850: 8850}}"
      ]
     },
     "metadata": {},
     "output_type": "display_data"
    },
    {
     "data": {
      "text/plain": [
       "{'conflict_adapt': {1108: (0.5326018141605198, 0.904064852506147)},\n",
       " 'conflict_adapt_mean': {1108: 0.7183333333333334},\n",
       " 'rand_i': {1108: 1108}}"
      ]
     },
     "metadata": {},
     "output_type": "display_data"
    },
    {
     "data": {
      "text/plain": [
       "{'conflict_adapt': {6684: (0.4434126380300203, 0.7365873619699799)},\n",
       " 'conflict_adapt_mean': {6684: 0.5900000000000001},\n",
       " 'rand_i': {6684: 6684}}"
      ]
     },
     "metadata": {},
     "output_type": "display_data"
    },
    {
     "data": {
      "text/plain": [
       "{'conflict_adapt': {3430: (0.39483749228727955, 0.9018291743793871)},\n",
       " 'conflict_adapt_mean': {3430: 0.6483333333333333},\n",
       " 'rand_i': {3430: 3430}}"
      ]
     },
     "metadata": {},
     "output_type": "display_data"
    },
    {
     "data": {
      "text/plain": [
       "{'conflict_adapt': {4979: (0.3167462947228384, 0.8661108481343045)},\n",
       " 'conflict_adapt_mean': {4979: 0.5914285714285714},\n",
       " 'rand_i': {4979: 4979}}"
      ]
     },
     "metadata": {},
     "output_type": "display_data"
    },
    {
     "data": {
      "text/plain": [
       "{'conflict_adapt': {8591: (0.47849586499259256, 0.7248374683407406)},\n",
       " 'conflict_adapt_mean': {8591: 0.6016666666666666},\n",
       " 'rand_i': {8591: 8591}}"
      ]
     },
     "metadata": {},
     "output_type": "display_data"
    },
    {
     "data": {
      "text/plain": [
       "{'conflict_adapt': {4647: (0.28400302549705736, 0.669330307836276)},\n",
       " 'conflict_adapt_mean': {4647: 0.4766666666666667},\n",
       " 'rand_i': {4647: 4647}}"
      ]
     },
     "metadata": {},
     "output_type": "display_data"
    },
    {
     "data": {
      "text/plain": [
       "{'conflict_adapt': {1817: (0.35069013146543077, 0.8659765352012359)},\n",
       " 'conflict_adapt_mean': {1817: 0.6083333333333333},\n",
       " 'rand_i': {1817: 1817}}"
      ]
     },
     "metadata": {},
     "output_type": "display_data"
    },
    {
     "data": {
      "text/plain": [
       "{'conflict_adapt': {3767: (0.4483410887389239, 0.6683255779277428)},\n",
       " 'conflict_adapt_mean': {3767: 0.5583333333333333},\n",
       " 'rand_i': {3767: 3767}}"
      ]
     },
     "metadata": {},
     "output_type": "display_data"
    },
    {
     "data": {
      "text/plain": [
       "{'conflict_adapt': {2017: (0.5904951474628622, 0.7642667572990426)},\n",
       " 'conflict_adapt_mean': {2017: 0.6773809523809524},\n",
       " 'rand_i': {2017: 2017}}"
      ]
     },
     "metadata": {},
     "output_type": "display_data"
    },
    {
     "data": {
      "text/plain": [
       "{'conflict_adapt': {6523: (0.35442922366399154, 0.9589041096693417)},\n",
       " 'conflict_adapt_mean': {6523: 0.6566666666666666},\n",
       " 'rand_i': {6523: 6523}}"
      ]
     },
     "metadata": {},
     "output_type": "display_data"
    },
    {
     "data": {
      "text/plain": [
       "{'conflict_adapt': {8167: (0.4185912120356261, 0.7680754546310404)},\n",
       " 'conflict_adapt_mean': {8167: 0.5933333333333333},\n",
       " 'rand_i': {8167: 8167}}"
      ]
     },
     "metadata": {},
     "output_type": "display_data"
    },
    {
     "data": {
      "text/plain": [
       "{'conflict_adapt': {6486: (0.5090113831385077, 0.9576552835281589)},\n",
       " 'conflict_adapt_mean': {6486: 0.7333333333333333},\n",
       " 'rand_i': {6486: 6486}}"
      ]
     },
     "metadata": {},
     "output_type": "display_data"
    },
    {
     "data": {
      "text/plain": [
       "{'conflict_adapt': {6048: (0.47830552937688364, 0.6516944706231165)},\n",
       " 'conflict_adapt_mean': {6048: 0.5650000000000001},\n",
       " 'rand_i': {6048: 6048}}"
      ]
     },
     "metadata": {},
     "output_type": "display_data"
    },
    {
     "data": {
      "text/plain": [
       "{'conflict_adapt': {4819: (0.21979200022452924, 0.5302079997754708)},\n",
       " 'conflict_adapt_mean': {4819: 0.37500000000000006},\n",
       " 'rand_i': {4819: 4819}}"
      ]
     },
     "metadata": {},
     "output_type": "display_data"
    },
    {
     "data": {
      "text/plain": [
       "{'conflict_adapt': {7391: (0.5163824936337656, 0.7069508396995675)},\n",
       " 'conflict_adapt_mean': {7391: 0.6116666666666666},\n",
       " 'rand_i': {7391: 7391}}"
      ]
     },
     "metadata": {},
     "output_type": "display_data"
    },
    {
     "data": {
      "text/plain": [
       "{'conflict_adapt': {7443: (0.20982356330475155, 0.8001764366952484)},\n",
       " 'conflict_adapt_mean': {7443: 0.505},\n",
       " 'rand_i': {7443: 7443}}"
      ]
     },
     "metadata": {},
     "output_type": "display_data"
    },
    {
     "data": {
      "text/plain": [
       "{'conflict_adapt': {6095: (0.5676343009916679, 0.9656990323416653)},\n",
       " 'conflict_adapt_mean': {6095: 0.7666666666666666},\n",
       " 'rand_i': {6095: 6095}}"
      ]
     },
     "metadata": {},
     "output_type": "display_data"
    },
    {
     "data": {
      "text/plain": [
       "{'conflict_adapt': {2061: (0.28921121246055975, 0.8426935494442023)},\n",
       " 'conflict_adapt_mean': {2061: 0.565952380952381},\n",
       " 'rand_i': {2061: 2061}}"
      ]
     },
     "metadata": {},
     "output_type": "display_data"
    },
    {
     "data": {
      "text/plain": [
       "{'conflict_adapt': {971: (0.3549781548354357, 0.6950218451645641)},\n",
       " 'conflict_adapt_mean': {971: 0.5249999999999999},\n",
       " 'rand_i': {971: 971}}"
      ]
     },
     "metadata": {},
     "output_type": "display_data"
    },
    {
     "data": {
      "text/plain": [
       "{'conflict_adapt': {1706: (0.43174342124313536, 0.5882565787568647)},\n",
       " 'conflict_adapt_mean': {1706: 0.51},\n",
       " 'rand_i': {1706: 1706}}"
      ]
     },
     "metadata": {},
     "output_type": "display_data"
    }
   ],
   "source": [
    "# dd=[]\n",
    "# dd = pd.DataFrame(columns=['conflict_adapt','rt_cond'])\n",
    "# display(dd)\n",
    "for s in rand_i:\n",
    "    Random_Forest_Classifier('conflict','adapt','AIC_d','patient_status',s)\n",
    "    display(c1_scores)\n",
    "#     Random_Forest_Classifier('rt','cond','AIC_d','patient_status',s)\n",
    "#     c2 = pd.DataFrame.from_dict(c1_scores)\n",
    "#     display(c2)\n",
    "#     dd=dd.append(c2)\n",
    "#     dd[['ca_ci_lower', 'ca_ci_upper']] = pd.DataFrame(dd['conflict_adapt'].tolist(),index=dd.index)\n",
    "#     dd[['rc_ci_lower', 'rc_ci_upper']] = pd.DataFrame(dd['rt_cond'].tolist(),index=dd.index)\n",
    "\n",
    "# display(dd)"
   ]
  },
  {
   "cell_type": "code",
   "execution_count": null,
   "metadata": {},
   "outputs": [],
   "source": [
    "##-----------------------------------------##\n",
    "## Generate Data Structure for Visualization\n",
    "##-----------------------------------------##\n",
    "# dd = dd.drop(axis=0)\n",
    "# dd=dd.rename(columns={\"rt_cond_mean\": \"rc_mean\"})\n",
    "# dd=dd.rename(columns={\"conflict_adapt_mean\": \"ca_mean\"})\n",
    "# cols = dd.columns.tolist()\n",
    "# print cols\n",
    "# cols=['rand_i','ca_ci_lower','ca_ci_upper','ca_mean','rc_ci_lower','rc_ci_upper','rc_mean']\n",
    "# dd=dd[cols]\n",
    "\n",
    "# display(dd)\n",
    "# r_out = pd.DataFrame.to_csv(dd,os.path.join(rf_dir,'rfc_ci_mean_output.csv'),index=False)\n",
    "##----------------------##\n",
    "\n",
    "def plot_dists(df_or_path):\n",
    "    \n",
    "    dd_f = df_or_path\n",
    "    display(dd_f.describe())\n",
    "\n",
    "    plt.hist(dd_f.conflict_adapt_mean,bins=15,histtype=\"step\")\n",
    "    plt.hist(dd_f.rt_cond_mean,bins=15,histtype=\"step\")\n",
    "\n",
    "    plt.legend([\"State-Space\",\"Raw\"])\n",
    "\n",
    "    plt.show()\n",
    "\n",
    "    stats.ttest_rel(dd_f.conflict_adapt_mean,dd_f.rt_cond_mean)\n",
    "    \n",
    "    return\n",
    "\n",
    "plot_dists(pd.read_csv(os.path.join(rf_dir,'rfc_ci_mean_output.csv')))\n",
    "plot_dists(dd)"
   ]
  },
  {
   "cell_type": "code",
   "execution_count": null,
   "metadata": {},
   "outputs": [],
   "source": [
    "def overlap(start1, end1, start2, end2, rsd):\n",
    "    \"\"\"Does the range (start1, end1) overlap with (start2, end2)?\"\"\"\n",
    "    f = start1 <= start2 <= end1 or start1 <= end2 <= end1 or start2 <= start1 <= end2 or start2 <= end1 <= end2\n",
    "    if f == True:\n",
    "        print \"Seed %s: Overlap\" % rsd\n",
    "    elif f == False:\n",
    "        print \"Seed %s: [%s - %s] does NOT overlap w [%s - %s]\" % (rsd, start1, end1, start2, end2)\n",
    "    return\n",
    "\n",
    "for ca_l,ca_u,rc_l,rc_u,ix in zip(dd['ca_lower'],dd['ca_upper'],dd['rc_lower'],dd['rc_upper'],dd['index1']):\n",
    "    overlap(ca_l,ca_u,rc_l,rc_u,ix)"
   ]
  },
  {
   "cell_type": "code",
   "execution_count": null,
   "metadata": {},
   "outputs": [],
   "source": [
    "##--------------------##   \n",
    "\n",
    "#     if 'rt' in X1:\n",
    "#         c1_scores=scores\n",
    "# #         c1_scores.append(i for i in scores)\n",
    "#     elif 'conflict' in X1:\n",
    "#         c2_scores=scores\n",
    "# #         c2_scores.append(i for i in scores)\n",
    "#     else:\n",
    "#         \"ur code is on fire fix it\"\n",
    "    \n",
    "    ## Split train/test data\n",
    "#     X_train, X_test, y_train, y_test = train_test_split(X, y, test_size=0.2,random_state=5) \n",
    "#     print \"X train: %s\\n -----------------------\" % len(X_train)\n",
    "#     print \"X test: %s\\n -----------------------\" % len(X_test)\n",
    "\n",
    "    ## Train model\n",
    "#     clf.fit(X_train,y_train)\n",
    "\n",
    "    ## Test model\n",
    "#     y_pred=clf.predict(X_test)\n",
    "\n",
    "    ## Calculate model accuracy, confidence intervals, feature importance\n",
    "#     acc=metrics.balanced_accuracy_score(y_test, y_pred)\n",
    "#     print \"calculated accuracy: %s \" % acc\n",
    "    \n",
    "#     feature_imp = pd.Series(clf.feature_importances_,index=X_features).sort_values(ascending=False)\n",
    "#     estims = [tree.feature_importances_ for tree in clf.estimators_]\n",
    "#     ci = st.t.interval(0.95, len(estims)-1, loc=np.mean(estims), scale=st.sem(estims))\n",
    "    \n",
    "    # Organize data to plot\n",
    "#     df_results=pd.DataFrame(feature_imp,columns=['feat_imp']).reset_index()\n",
    "#     df_results=df_results.rename(columns={\"index\": \"roi\"})\n",
    "    \n",
    "    ## Determine CIs\n",
    "#     df_results['ci_lower'] = ci[0]\n",
    "#     df_results['ci_upper'] = ci[1]\n",
    "#     df_results['ci_diff'] = df_results['ci_upper']-df_results['ci_lower']\n",
    "#     df_results=df_results.reset_index(drop=True)\n",
    "    \n",
    "    ## Sort features by importance\n",
    "#     df_results=df_results.sort_values(by='feat_imp',ascending=False)\n",
    "                \n",
    "    # Plot feature importances\n",
    "#     sns.set()\n",
    "#     plt.figure()\n",
    "#     plt.title('Accuracy: %.4f' % (acc))\n",
    "    \n",
    "#     palette = plt.get_cmap('winter_r')\n",
    "#     spectrum = [1,25,50,75,100,125,150,175,200,225]\n",
    "#     plt.bar(df_results['roi'],df_results['feat_imp'],color=palette(spectrum),\n",
    "#             yerr=df_results['ci_diff'])\n",
    "    \n",
    "#     plt.xticks(df_results['roi'], rotation='vertical')\n",
    "#     plt.xlabel('Features')\n",
    "#     plt.ylabel('Feature Importance Score')\n",
    "#     plt.show()\n",
    "\n",
    "    # Save fig\n",
    "#     plt.figure()\n",
    "#     g = g.get_figure()\n",
    "#     pth = os.path.join(AIC_output,'AIC_plus_decrease_vals/figures/')\n",
    "#     g.savefig(os.path.join(pth,'%s_%s_%s_%s.png' % \n",
    "#                              (X1,X2,binary_feat_X,binary_feat_y)),\n",
    "#                 dpi=g.dpi,bbox_inches='tight')"
   ]
  },
  {
   "cell_type": "code",
   "execution_count": null,
   "metadata": {},
   "outputs": [],
   "source": [
    "#     print_nested(c1_scores, prefix='')\n",
    "#     sns.barplot(list(c1_scores.keys()), list(c1_scores.values()))\n",
    "#     plt.show()\n",
    "#     c1_scores_master_dict.update(c1_scores)\n",
    "#     print c1_scores\n",
    "#     for value in c1_scores.values():\n",
    "#         print value\n",
    "#         print value[0][0]\n",
    "\n",
    "#         if key in dishes:\n",
    "#             print dishes[key]\n",
    "# print c1_scores_master_dict\n",
    "# c2_scores = Random_Forest_Classifier('conflict','adapt','AIC_d','patient_status')\n",
    "# c1_scores = Random_Forest_Classifier('rt','cond','AIC_d','patient_status')\n",
    "\n",
    "# c1_scores=[0.5,0.5,0.75,0.75,0.54166667]\n",
    "# c2_scores=[0.55,0.45,0.2,0.25,0.66666667]\n",
    "\n",
    "# print c2_scores\n",
    "# print c1_scores\n",
    "\n",
    "# t_stat, p_val = stats.ttest_ind(c1_scores,c2_scores)\n",
    "# print \"T = %.2f | P = %.2f\" % (t_stat,p_val) \n",
    "\n",
    "# F = Var(X) / Var(Y)\n",
    "# alpha = 0.05 #Or whatever you want your alpha to be.\n",
    "# p_value = scipy.stats.f.cdf(F, df1, df2)\n",
    "# if p_value > alpha:\n",
    "#     print \"not significant\"\n",
    "# elif p_value < alpha:\n",
    "#     print \"significant\"\n",
    "# else:\n",
    "#     print p_value\n",
    "    \n",
    "# scipy.stats.levene(c1_scores,c2_scores)"
   ]
  },
  {
   "cell_type": "markdown",
   "metadata": {},
   "source": [
    "### Sanity check purposes only: Test an infinite amount of interactions"
   ]
  },
  {
   "cell_type": "code",
   "execution_count": null,
   "metadata": {
    "scrolled": true
   },
   "outputs": [],
   "source": [
    "############\n",
    "#     def balanced_accuracy_score_V2(y_test, y_pred, sample_weight=None,adjusted=False):\n",
    "#         from sklearn.metrics import confusion_matrix\n",
    "#         C = confusion_matrix(y_test, y_pred, sample_weight=None)\n",
    "#         print \"confusion matrix: %s\\n\\n\" % C\n",
    "\n",
    "#         per_class = np.diag(C) / C.sum(axis=1)\n",
    "#         print \"per class: %s\\n\\n\" % per_class\n",
    "\n",
    "#         score = np.mean(per_class)\n",
    "#         print \"score: %s\\n\\n\" % score\n",
    "\n",
    "#         if adjusted:\n",
    "#             n_classes = len(per_class)\n",
    "#             chance = 1 / n_classes\n",
    "#             score -= chance\n",
    "#             score /= 1 - chance\n",
    "#             print \"score ADJUSTED: %s\\n\\n\" % score\n",
    "#         return score\n",
    "#     balanced_accuracy_score_V2(y_test, y_pred)\n",
    "############\n",
    "##---------------------------------##\n",
    "# rt_pred_ROIs_group_cond='rt ~ cond + group + dACC + L_IFG + R_IFG + L_dlPFC + R_dlPFC'\n",
    "# dACC_pred_rt_ROIs_group_cond='dACC ~ cond + group + rt + L_IFG + R_IFG + L_dlPFC + R_dlPFC'\n",
    "# L_IFG_pred_rt_ROIs_group_cond='L_IFG ~ cond + group + rt + dACC + R_IFG + L_dlPFC + R_dlPFC'\n",
    "# R_IFG_pred_rt_ROIs_group_cond='R_IFG ~ cond + group + rt + L_IFG + dACC + L_dlPFC + R_dlPFC'\n",
    "# L_dlPFC_pred_rt_ROIs_group_cond='L_dlPFC ~ cond + group + rt + L_IFG + R_IFG + dACC + R_dlPFC'\n",
    "# R_dlPFC_pred_rt_ROIs_group_cond='R_dlPFC ~ cond + group + rt + L_IFG + R_IFG + L_dlPFC + dACC'\n",
    "\n",
    "# OLS(rt_pred_ROIs_group_cond,df,'ALL SUBJS | ALL DATA | %s' % rt_pred_ROIs_group_cond)\n",
    "# OLS(dACC_pred_rt_ROIs_group_cond,df,'ALL SUBJS | ALL DATA | %s' % dACC_pred_rt_ROIs_group_cond)\n",
    "# OLS(L_IFG_pred_rt_ROIs_group_cond,df,'ALL SUBJS | ALL DATA | %s' % L_IFG_pred_rt_ROIs_group_cond)\n",
    "# OLS(R_IFG_pred_rt_ROIs_group_cond,df,'ALL SUBJS | ALL DATA | %s' % R_IFG_pred_rt_ROIs_group_cond)\n",
    "# OLS(L_dlPFC_pred_rt_ROIs_group_cond,df,'ALL SUBJS | ALL DATA | %s' % L_dlPFC_pred_rt_ROIs_group_cond)\n",
    "# OLS(R_dlPFC_pred_rt_ROIs_group_cond,df,'ALL SUBJS | ALL DATA | %s' % R_dlPFC_pred_rt_ROIs_group_cond)\n",
    "\n",
    "# ##---------------------------------##\n",
    "# rt_pred_ROIs_cond='rt ~ cond + dACC + L_IFG + R_IFG + L_dlPFC + R_dlPFC'\n",
    "# dACC_pred_rt_ROIs_cond='dACC ~ cond + rt + L_IFG + R_IFG + L_dlPFC + R_dlPFC'\n",
    "# L_IFG_pred_rt_ROIs_cond='L_IFG ~ cond + rt + dACC + R_IFG + L_dlPFC + R_dlPFC'\n",
    "# R_IFG_pred_rt_ROIs_cond='R_IFG ~ cond + rt + L_IFG + dACC + L_dlPFC + R_dlPFC'\n",
    "# L_dlPFC_pred_rt_ROIs_cond='L_dlPFC ~ cond + rt + L_IFG + R_IFG + dACC + R_dlPFC'\n",
    "# R_dlPFC_pred_rt_ROIs_cond='R_dlPFC ~ cond + rt + L_IFG + R_IFG + L_dlPFC + dACC'\n",
    "\n",
    "# OLS(rt_pred_ROIs_cond,df,'ALL SUBJS | ALL DATA | %s' % rt_pred_ROIs_cond)\n",
    "# OLS(dACC_pred_rt_ROIs_cond,df,'ALL SUBJS | ALL DATA | %s' % dACC_pred_rt_ROIs_cond)\n",
    "# OLS(L_IFG_pred_rt_ROIs_cond,df,'ALL SUBJS | ALL DATA | %s' % L_IFG_pred_rt_ROIs_cond)\n",
    "# OLS(R_IFG_pred_rt_ROIs_cond,df,'ALL SUBJS | ALL DATA | %s' % R_IFG_pred_rt_ROIs_cond)\n",
    "# OLS(L_dlPFC_pred_rt_ROIs_cond,df,'ALL SUBJS | ALL DATA | %s' % L_dlPFC_pred_rt_ROIs_cond)\n",
    "# OLS(R_dlPFC_pred_rt_ROIs_cond,df,'ALL SUBJS | ALL DATA | %s' % R_dlPFC_pred_rt_ROIs_cond)\n",
    "\n",
    "# OLS(rt_pred_ROIs_cond,df_hcs,'CTRLS | ALL DATA | %s' % rt_pred_ROIs_cond)\n",
    "# OLS(dACC_pred_rt_ROIs_cond,df_hcs,'CTRLS | ALL DATA | %s' % dACC_pred_rt_ROIs_cond)\n",
    "# OLS(L_IFG_pred_rt_ROIs_cond,df_hcs,'CTRLS | ALL DATA | %s' % L_IFG_pred_rt_ROIs_cond)\n",
    "# OLS(R_IFG_pred_rt_ROIs_cond,df_hcs,'CTRLS | ALL DATA | %s' % R_IFG_pred_rt_ROIs_cond)\n",
    "# OLS(L_dlPFC_pred_rt_ROIs_cond,df_hcs,'CTRLS | ALL DATA | %s' % L_dlPFC_pred_rt_ROIs_cond)\n",
    "# OLS(R_dlPFC_pred_rt_ROIs_cond,df_hcs,'CTRLS | ALL DATA | %s' % R_dlPFC_pred_rt_ROIs_cond)\n",
    "\n",
    "# OLS(rt_pred_ROIs_cond,df_pts,'PTS | ALL DATA | %s' % rt_pred_ROIs_cond)\n",
    "# OLS(dACC_pred_rt_ROIs_cond,df_pts,'PTS | ALL DATA | %s' % dACC_pred_rt_ROIs_cond)\n",
    "# OLS(L_IFG_pred_rt_ROIs_cond,df_pts,'PTS | ALL DATA | %s' % L_IFG_pred_rt_ROIs_cond)\n",
    "# OLS(R_IFG_pred_rt_ROIs_cond,df_pts,'PTS | ALL DATA | %s' % R_IFG_pred_rt_ROIs_cond)\n",
    "# OLS(L_dlPFC_pred_rt_ROIs_cond,df_pts,'PTS | ALL DATA | %s' % L_dlPFC_pred_rt_ROIs_cond)\n",
    "# OLS(R_dlPFC_pred_rt_ROIs_cond,df_pts,'PTS | ALL DATA | %s' % R_dlPFC_pred_rt_ROIs_cond)\n",
    "# ##---------------------------------##\n",
    "# rt_pred_ROIs_group='rt ~ group + dACC + L_IFG + R_IFG + L_dlPFC + R_dlPFC'\n",
    "# dACC_pred_rt_ROIs_group='dACC ~ group + rt + L_IFG + R_IFG + L_dlPFC + R_dlPFC'\n",
    "# L_IFG_pred_rt_ROIs_group='L_IFG ~ group + rt + dACC + R_IFG + L_dlPFC + R_dlPFC'\n",
    "# R_IFG_pred_rt_ROIs_group='R_IFG ~ group + rt + L_IFG + dACC + L_dlPFC + R_dlPFC'\n",
    "# L_dlPFC_pred_rt_ROIs_group='L_dlPFC ~ group + rt + L_IFG + R_IFG + dACC + R_dlPFC'\n",
    "# R_dlPFC_pred_rt_ROIs_group='R_dlPFC ~ group + rt + L_IFG + R_IFG + L_dlPFC + dACC'\n",
    "\n",
    "# OLS(rt_pred_ROIs_group,df,'ALL SUBJS | ALL DATA | %s' % rt_pred_ROIs_group)\n",
    "# OLS(dACC_pred_rt_ROIs_group,df,'ALL SUBJS | ALL DATA | %s' % dACC_pred_rt_ROIs_group)\n",
    "# OLS(L_IFG_pred_rt_ROIs_group,df,'ALL SUBJS | ALL DATA | %s' % L_IFG_pred_rt_ROIs_group)\n",
    "# OLS(R_IFG_pred_rt_ROIs_group,df,'ALL SUBJS | ALL DATA | %s' % R_IFG_pred_rt_ROIs_group)\n",
    "# OLS(L_dlPFC_pred_rt_ROIs_group,df,'ALL SUBJS | ALL DATA | %s' % L_dlPFC_pred_rt_ROIs_group)\n",
    "# OLS(R_dlPFC_pred_rt_ROIs_group,df,'ALL SUBJS | ALL DATA | %s' % R_dlPFC_pred_rt_ROIs_group)\n",
    "\n",
    "# OLS(rt_pred_ROIs_group,df_I,'ALL SUBJS | MEAN INCONGRUENT TRIALS | %s' % rt_pred_ROIs_group)\n",
    "# OLS(dACC_pred_rt_ROIs_group,df_I,'ALL SUBJS | MEAN INCONGRUENT TRIALS | %s' % dACC_pred_rt_ROIs_group)\n",
    "# OLS(L_IFG_pred_rt_ROIs_group,df_I,'ALL SUBJS | MEAN INCONGRUENT TRIALS | %s' % L_IFG_pred_rt_ROIs_group)\n",
    "# OLS(R_IFG_pred_rt_ROIs_group,df_I,'ALL SUBJS | MEAN INCONGRUENT TRIALS | %s' % R_IFG_pred_rt_ROIs_group)\n",
    "# OLS(L_dlPFC_pred_rt_ROIs_group,df_I,'ALL SUBJS | MEAN INCONGRUENT TRIALS | %s' % L_dlPFC_pred_rt_ROIs_group)\n",
    "# OLS(R_dlPFC_pred_rt_ROIs_group,df_I,'ALL SUBJS | MEAN INCONGRUENT TRIALS | %s' % R_dlPFC_pred_rt_ROIs_group)\n",
    "\n",
    "# OLS(rt_pred_ROIs_group,df_C,'ALL SUBJS | MEAN CONGRUENT TRIALS | %s' % rt_pred_ROIs_group)\n",
    "# OLS(dACC_pred_rt_ROIs_group,df_C,'ALL SUBJS | MEAN CONGRUENT TRIALS | %s' % dACC_pred_rt_ROIs_group)\n",
    "# OLS(L_IFG_pred_rt_ROIs_group,df_C,'ALL SUBJS | MEAN CONGRUENT TRIALS | %s' % L_IFG_pred_rt_ROIs_group)\n",
    "# OLS(R_IFG_pred_rt_ROIs_group,df_C,'ALL SUBJS | MEAN CONGRUENT TRIALS | %s' % R_IFG_pred_rt_ROIs_group)\n",
    "# OLS(L_dlPFC_pred_rt_ROIs_group,df_C,'ALL SUBJS | MEAN CONGRUENT TRIALS | %s' % L_dlPFC_pred_rt_ROIs_group)\n",
    "# OLS(R_dlPFC_pred_rt_ROIs_group,df_C,'ALL SUBJS | MEAN CONGRUENT TRIALS | %s' % R_dlPFC_pred_rt_ROIs_group)\n",
    "# ##---------------------------------##\n",
    "# dACC_pred_ROIs_cond='dACC ~ cond + L_IFG + R_IFG + L_dlPFC + R_dlPFC'\n",
    "# L_IFG_pred_ROIs_cond='L_IFG ~ cond + dACC + R_IFG + L_dlPFC + R_dlPFC'\n",
    "# R_IFG_pred_ROIs_cond='R_IFG ~ cond + L_IFG + dACC + L_dlPFC + R_dlPFC'\n",
    "# L_dlPFC_pred_ROIs_cond='L_dlPFC ~ cond + L_IFG + R_IFG + dACC + R_dlPFC'\n",
    "# R_dlPFC_pred_ROIs_cond='R_dlPFC ~ cond + L_IFG + R_IFG + L_dlPFC + dACC'\n",
    "\n",
    "# OLS(dACC_pred_ROIs_cond,df,'ALL SUBJS | ALL DATA | %s' % dACC_pred_ROIs_cond)\n",
    "# OLS(L_IFG_pred_ROIs_cond,df,'ALL SUBJS | ALL DATA | %s' % L_IFG_pred_ROIs_cond)\n",
    "# OLS(R_IFG_pred_ROIs_cond,df,'ALL SUBJS | ALL DATA | %s' % R_IFG_pred_ROIs_cond)\n",
    "# OLS(L_dlPFC_pred_ROIs_cond,df,'ALL SUBJS | ALL DATA | %s' % L_dlPFC_pred_ROIs_cond)\n",
    "# OLS(R_dlPFC_pred_ROIs_cond,df,'ALL SUBJS | ALL DATA | %s' % R_dlPFC_pred_ROIs_cond)\n",
    "\n",
    "# OLS(dACC_pred_ROIs_cond,df_hcs,'CTRLS | ALL DATA | %s' % dACC_pred_ROIs_cond)\n",
    "# OLS(L_IFG_pred_ROIs_cond,df_hcs,'CTRLS | ALL DATA | %s' % L_IFG_pred_ROIs_cond)\n",
    "# OLS(R_IFG_pred_ROIs_cond,df_hcs,'CTRLS | ALL DATA | %s' % R_IFG_pred_ROIs_cond)\n",
    "# OLS(L_dlPFC_pred_ROIs_cond,df_hcs,'CTRLS | ALL DATA | %s' % L_dlPFC_pred_ROIs_cond)\n",
    "# OLS(R_dlPFC_pred_ROIs_cond,df_hcs,'CTRLS | ALL DATA | %s' % R_dlPFC_pred_ROIs_cond)\n",
    "\n",
    "# OLS(dACC_pred_ROIs_cond,df_pts,'PTS | ALL DATA | %s' % dACC_pred_ROIs_cond)\n",
    "# OLS(L_IFG_pred_ROIs_cond,df_pts,'PTS | ALL DATA | %s' % L_IFG_pred_ROIs_cond)\n",
    "# OLS(R_IFG_pred_ROIs_cond,df_pts,'PTS | ALL DATA | %s' % R_IFG_pred_ROIs_cond)\n",
    "# OLS(L_dlPFC_pred_ROIs_cond,df_pts,'PTS | ALL DATA | %s' % L_dlPFC_pred_ROIs_cond)\n",
    "# OLS(R_dlPFC_pred_ROIs_cond,df_pts,'PTS | ALL DATA | %s' % R_dlPFC_pred_ROIs_cond)\n",
    "# ##---------------------------------##\n",
    "# dACC_pred_rt_ROIs_group='dACC ~ group + L_IFG + R_IFG + L_dlPFC + R_dlPFC'\n",
    "# L_IFG_pred_ROIs_group='L_IFG ~ group + dACC + R_IFG + L_dlPFC + R_dlPFC'\n",
    "# R_IFG_pred_ROIs_group='R_IFG ~ group + L_IFG + dACC + L_dlPFC + R_dlPFC'\n",
    "# L_dlPFC_pred_ROIs_group='L_dlPFC ~ group + L_IFG + R_IFG + dACC + R_dlPFC'\n",
    "# R_dlPFC_pred_ROIs_group='R_dlPFC ~ group + L_IFG + R_IFG + L_dlPFC + dACC'\n",
    "\n",
    "# OLS(dACC_pred_rt_ROIs_group,df,'ALL SUBJS | ALL DATA | %s' % dACC_pred_rt_ROIs_group)\n",
    "# OLS(L_IFG_pred_ROIs_group,df,'ALL SUBJS | ALL DATA | %s' % L_IFG_pred_ROIs_group)\n",
    "# OLS(R_IFG_pred_ROIs_group,df,'ALL SUBJS | ALL DATA | %s' % R_IFG_pred_ROIs_group)\n",
    "# OLS(L_dlPFC_pred_ROIs_group,df,'ALL SUBJS | ALL DATA | %s' % L_dlPFC_pred_ROIs_group)\n",
    "# OLS(R_dlPFC_pred_ROIs_group,df,'ALL SUBJS | ALL DATA | %s' % R_dlPFC_pred_ROIs_group)\n",
    "\n",
    "# OLS(dACC_pred_rt_ROIs_group,df_I,'ALL SUBJS | MEAN INCONGRUENT TRIALS | %s' % dACC_pred_rt_ROIs_group)\n",
    "# OLS(L_IFG_pred_ROIs_group,df_I,'ALL SUBJS | MEAN INCONGRUENT TRIALS | %s' % L_IFG_pred_ROIs_group)\n",
    "# OLS(R_IFG_pred_ROIs_group,df_I,'ALL SUBJS | MEAN INCONGRUENT TRIALS | %s' % R_IFG_pred_ROIs_group)\n",
    "# OLS(L_dlPFC_pred_ROIs_group,df_I,'ALL SUBJS | MEAN INCONGRUENT TRIALS | %s' % L_dlPFC_pred_ROIs_group)\n",
    "# OLS(R_dlPFC_pred_ROIs_group,df_I,'ALL SUBJS | MEAN INCONGRUENT TRIALS | %s' % R_dlPFC_pred_ROIs_group)\n",
    "\n",
    "# OLS(dACC_pred_rt_ROIs_group,df_C,'ALL SUBJS | MEAN CONGRUENT TRIALS | %s' % dACC_pred_rt_ROIs_group)\n",
    "# OLS(L_IFG_pred_ROIs_group,df_C,'ALL SUBJS | MEAN CONGRUENT TRIALS | %s' % L_IFG_pred_ROIs_group)\n",
    "# OLS(R_IFG_pred_ROIs_group,df_C,'ALL SUBJS | MEAN CONGRUENT TRIALS | %s' % R_IFG_pred_ROIs_group)\n",
    "# OLS(L_dlPFC_pred_ROIs_group,df_C,'ALL SUBJS | MEAN CONGRUENT TRIALS | %s' % L_dlPFC_pred_ROIs_group)\n",
    "# OLS(R_dlPFC_pred_ROIs_group,df_C,'ALL SUBJS | MEAN CONGRUENT TRIALS | %s' % R_dlPFC_pred_ROIs_group)\n",
    "# ##---------------------------------##\n",
    "# rt_pred_ROIs='rt ~ dACC + L_IFG + R_IFG + L_dlPFC + R_dlPFC'\n",
    "# dACC_pred_rt_ROIs='dACC ~ rt + L_IFG + R_IFG + L_dlPFC + R_dlPFC'\n",
    "# L_IFG_pred_rt_ROIs='L_IFG ~ rt + dACC + R_IFG + L_dlPFC + R_dlPFC'\n",
    "# R_IFG_pred_rt_ROIs='R_IFG ~ rt + L_IFG + dACC + L_dlPFC + R_dlPFC'\n",
    "# L_dlPFC_pred_rt_ROIs='L_dlPFC ~ rt + L_IFG + R_IFG + dACC + R_dlPFC'\n",
    "# R_dlPFC_pred_rt_ROIs='R_dlPFC ~ rt + L_IFG + R_IFG + L_dlPFC + dACC'\n",
    "\n",
    "# OLS(rt_pred_ROIs,df,'ALL SUBJS | ALL DATA | %s' % rt_pred_ROIs)\n",
    "# OLS(______,df,'ALL SUBJS | ALL DATA | %s' % ______)\n",
    "# OLS(______,df,'ALL SUBJS | ALL DATA | %s' % ______)\n",
    "# OLS(______,df,'ALL SUBJS | ALL DATA | %s' % ______)\n",
    "# OLS(______,df,'ALL SUBJS | ALL DATA | %s' % ______)\n",
    "# OLS(______,df,'ALL SUBJS | ALL DATA | %s' % ______)\n",
    "\n",
    "# OLS(rt_pred_ROIs,df_hcs,'CTRLS | ALL DATA | %s' % rt_pred_ROIs)\n",
    "# OLS(______,df_hcs,'CTRLS | ALL DATA | %s' % ______)\n",
    "# OLS(______,df_hcs,'CTRLS | ALL DATA | %s' % ______)\n",
    "# OLS(______,df_hcs,'CTRLS | ALL DATA | %s' % ______)\n",
    "# OLS(______,df_hcs,'CTRLS | ALL DATA | %s' % ______)\n",
    "# OLS(______,df_hcs,'CTRLS | ALL DATA | %s' % ______)\n",
    "\n",
    "# OLS(rt_pred_ROIs,df_pts,'PTS | ALL DATA | %s' % rt_pred_ROIs)\n",
    "# OLS(______,df_pts,'PTS | ALL DATA | %s' % ______)\n",
    "# OLS(______,df_pts,'PTS | ALL DATA | %s' % ______)\n",
    "# OLS(______,df_pts,'PTS | ALL DATA | %s' % ______)\n",
    "# OLS(______,df_pts,'PTS | ALL DATA | %s' % ______)\n",
    "# OLS(______,df_pts,'PTS | ALL DATA | %s' % ______)\n",
    "\n",
    "# OLS(rt_pred_ROIs,df_I,'ALL SUBJS | MEAN INCONGRUENT TRIALS | %s' % rt_pred_ROIs)\n",
    "# OLS(______,df_I,'ALL SUBJS | MEAN INCONGRUENT TRIALS | %s' % ______)\n",
    "# OLS(______,df_I,'ALL SUBJS | MEAN INCONGRUENT TRIALS | %s' % ______)\n",
    "# OLS(______,df_I,'ALL SUBJS | MEAN INCONGRUENT TRIALS | %s' % ______)\n",
    "# OLS(______,df_I,'ALL SUBJS | MEAN INCONGRUENT TRIALS | %s' % ______)\n",
    "# OLS(______,df_I,'ALL SUBJS | MEAN INCONGRUENT TRIALS | %s' % ______)\n",
    "\n",
    "# OLS(rt_pred_ROIs,df_C,'ALL SUBJS | MEAN CONGRUENT TRIALS | %s' % rt_pred_ROIs)\n",
    "# OLS(______,df_C,'ALL SUBJS | MEAN CONGRUENT TRIALS | %s' % ______)\n",
    "# OLS(______,df_C,'ALL SUBJS | MEAN CONGRUENT TRIALS | %s' % ______)\n",
    "# OLS(______,df_C,'ALL SUBJS | MEAN CONGRUENT TRIALS | %s' % ______)\n",
    "# OLS(______,df_C,'ALL SUBJS | MEAN CONGRUENT TRIALS | %s' % ______)\n",
    "# OLS(______,df_C,'ALL SUBJS | MEAN CONGRUENT TRIALS | %s' % ______)\n",
    "\n",
    "# OLS(rt_pred_ROIs,df_hcs_I,'CTRLS | MEAN INCONGRUENT TRIALS | %s' % rt_pred_ROIs)\n",
    "# OLS(______,df_hcs_I,'CTRLS | MEAN INCONGRUENT TRIALS | %s' % ______)\n",
    "# OLS(______,df_hcs_I,'CTRLS | MEAN INCONGRUENT TRIALS | %s' % ______)\n",
    "# OLS(______,df_hcs_I,'CTRLS | MEAN INCONGRUENT TRIALS | %s' % ______)\n",
    "# OLS(______,df_hcs_I,'CTRLS | MEAN INCONGRUENT TRIALS | %s' % ______)\n",
    "# OLS(______,df_hcs_I,'CTRLS | MEAN INCONGRUENT TRIALS | %s' % ______)\n",
    "\n",
    "# OLS(rt_pred_ROIs,df_pts_I,'PTS | MEAN INCONGRUENT TRIALS | %s' % rt_pred_ROIs)\n",
    "# OLS(______,df_pts_I,'PTS | MEAN INCONGRUENT TRIALS | %s' % ______)\n",
    "# OLS(______,df_pts_I,'PTS | MEAN INCONGRUENT TRIALS | %s' % ______)\n",
    "# OLS(______,df_pts_I,'PTS | MEAN INCONGRUENT TRIALS | %s' % ______)\n",
    "# OLS(______,df_pts_I,'PTS | MEAN INCONGRUENT TRIALS | %s' % ______)\n",
    "# OLS(______,df_pts_I,'PTS | MEAN INCONGRUENT TRIALS | %s' % ______)\n",
    "\n",
    "# OLS(rt_pred_ROIs,df_hcs_C,'CTRLS | MEAN CONGRUENT TRIALS | %s' % rt_pred_ROIs)\n",
    "# OLS(______,df_hcs_C,'CTRLS | MEAN CONGRUENT TRIALS | %s' % ______)\n",
    "# OLS(______,df_hcs_C,'CTRLS | MEAN CONGRUENT TRIALS | %s' % ______)\n",
    "# OLS(______,df_hcs_C,'CTRLS | MEAN CONGRUENT TRIALS | %s' % ______)\n",
    "# OLS(______,df_hcs_C,'CTRLS | MEAN CONGRUENT TRIALS | %s' % ______)\n",
    "# OLS(______,df_hcs_C,'CTRLS | MEAN CONGRUENT TRIALS | %s' % ______)\n",
    "\n",
    "# OLS(rt_pred_ROIs,df_pts_C,'PTS | MEAN CONGRUENT TRIALS | %s' % rt_pred_ROIs)\n",
    "# OLS(______,df_pts_C,'PTS | MEAN CONGRUENT TRIALS | %s' % ______)\n",
    "# OLS(______,df_pts_C,'PTS | MEAN CONGRUENT TRIALS | %s' % ______)\n",
    "# OLS(______,df_pts_C,'PTS | MEAN CONGRUENT TRIALS | %s' % ______)\n",
    "# OLS(______,df_pts_C,'PTS | MEAN CONGRUENT TRIALS | %s' % ______)\n",
    "# OLS(______,df_pts_C,'PTS | MEAN CONGRUENT TRIALS | %s' % ______)\n",
    "# ##---------------------------------##\n",
    "# dACC_pred_rt_ROIs_group_cond='dACC ~ cond + rt + group'\n",
    "# L_IFG_pred_rt_ROIs_group_cond='L_IFG ~ cond + group + rt'\n",
    "# R_IFG_pred_rt_ROIs_group_cond='R_IFG ~ cond + group + rt'\n",
    "# L_dlPFC_pred_rt_ROIs_group_cond='L_dlPFC ~ cond + group + rt'\n",
    "# R_dlPFC_pred_rt_ROIs_group_cond='R_dlPFC ~ cond + group + rt'\n",
    "\n",
    "# OLS(dACC_pred_rt_ROIs_group_cond,df,'ALL SUBJS | ALL DATA | %s' % dACC_pred_rt_ROIs_group_cond)\n",
    "# OLS(______,df,'ALL SUBJS | ALL DATA | %s' % ______)\n",
    "# OLS(______,df,'ALL SUBJS | ALL DATA | %s' % ______)\n",
    "# OLS(______,df,'ALL SUBJS | ALL DATA | %s' % ______)\n",
    "# OLS(______,df,'ALL SUBJS | ALL DATA | %s' % ______)\n",
    "# OLS(______,df,'ALL SUBJS | ALL DATA | %s' % ______)\n",
    "# ##---------------------------------##\n",
    "# rt_pred_group_cond='rt ~ cond + group'\n",
    "# dACC_pred_group_cond='dACC ~ cond + group'\n",
    "# L_IFG_pred_group_cond='L_IFG ~ cond + group'\n",
    "# R_IFG_pred_group_cond='R_IFG ~ cond + group'\n",
    "# L_dlPFC_pred_group_cond='L_dlPFC ~ cond + group'\n",
    "# R_dlPFC_pred_group_cond='R_dlPFC ~ cond + group'\n",
    "\n",
    "# OLS(______,df,'ALL SUBJS | ALL DATA | %s' % ______)\n",
    "# OLS(______,df,'ALL SUBJS | ALL DATA | %s' % ______)\n",
    "# OLS(______,df,'ALL SUBJS | ALL DATA | %s' % ______)\n",
    "# OLS(______,df,'ALL SUBJS | ALL DATA | %s' % ______)\n",
    "# OLS(______,df,'ALL SUBJS | ALL DATA | %s' % ______)\n",
    "# OLS(______,df,'ALL SUBJS | ALL DATA | %s' % ______)\n",
    "# ##---------------------------------##\n",
    "# dACC_pred_rt='dACC ~ rt'\n",
    "# L_IFG_pred_rt='L_IFG ~ rt'\n",
    "# R_IFG_pred_rt='R_IFG ~ rt'\n",
    "# L_dlPFC_pred_rt='L_dlPFC ~ rt'\n",
    "# R_dlPFC_pred_rt='R_dlPFC ~ rt'\n",
    "\n",
    "# OLS(______,df,'ALL SUBJS | ALL DATA | %s' % ______)\n",
    "# OLS(______,df,'ALL SUBJS | ALL DATA | %s' % ______)\n",
    "# OLS(______,df,'ALL SUBJS | ALL DATA | %s' % ______)\n",
    "# OLS(______,df,'ALL SUBJS | ALL DATA | %s' % ______)\n",
    "# OLS(______,df,'ALL SUBJS | ALL DATA | %s' % ______)\n",
    "# OLS(______,df,'ALL SUBJS | ALL DATA | %s' % ______)\n",
    "\n",
    "# OLS(______,df_hcs,'CTRLS | ALL DATA | %s' % ______)\n",
    "# OLS(______,df_hcs,'CTRLS | ALL DATA | %s' % ______)\n",
    "# OLS(______,df_hcs,'CTRLS | ALL DATA | %s' % ______)\n",
    "# OLS(______,df_hcs,'CTRLS | ALL DATA | %s' % ______)\n",
    "# OLS(______,df_hcs,'CTRLS | ALL DATA | %s' % ______)\n",
    "# OLS(______,df_hcs,'CTRLS | ALL DATA | %s' % ______)\n",
    "\n",
    "# OLS(______,df_pts,'PTS | ALL DATA | %s' % ______)\n",
    "# OLS(______,df_pts,'PTS | ALL DATA | %s' % ______)\n",
    "# OLS(______,df_pts,'PTS | ALL DATA | %s' % ______)\n",
    "# OLS(______,df_pts,'PTS | ALL DATA | %s' % ______)\n",
    "# OLS(______,df_pts,'PTS | ALL DATA | %s' % ______)\n",
    "# OLS(______,df_pts,'PTS | ALL DATA | %s' % ______)\n",
    "\n",
    "# OLS(______,df_I,'ALL SUBJS | MEAN INCONGRUENT TRIALS | %s' % ______)\n",
    "# OLS(______,df_I,'ALL SUBJS | MEAN INCONGRUENT TRIALS | %s' % ______)\n",
    "# OLS(______,df_I,'ALL SUBJS | MEAN INCONGRUENT TRIALS | %s' % ______)\n",
    "# OLS(______,df_I,'ALL SUBJS | MEAN INCONGRUENT TRIALS | %s' % ______)\n",
    "# OLS(______,df_I,'ALL SUBJS | MEAN INCONGRUENT TRIALS | %s' % ______)\n",
    "# OLS(______,df_I,'ALL SUBJS | MEAN INCONGRUENT TRIALS | %s' % ______)\n",
    "\n",
    "# OLS(______,df_C,'ALL SUBJS | MEAN CONGRUENT TRIALS | %s' % ______)\n",
    "# OLS(______,df_C,'ALL SUBJS | MEAN CONGRUENT TRIALS | %s' % ______)\n",
    "# OLS(______,df_C,'ALL SUBJS | MEAN CONGRUENT TRIALS | %s' % ______)\n",
    "# OLS(______,df_C,'ALL SUBJS | MEAN CONGRUENT TRIALS | %s' % ______)\n",
    "# OLS(______,df_C,'ALL SUBJS | MEAN CONGRUENT TRIALS | %s' % ______)\n",
    "# OLS(______,df_C,'ALL SUBJS | MEAN CONGRUENT TRIALS | %s' % ______)\n",
    "\n",
    "# OLS(______,df_hcs_I,'CTRLS | MEAN INCONGRUENT TRIALS | %s' % ______)\n",
    "# OLS(______,df_hcs_I,'CTRLS | MEAN INCONGRUENT TRIALS | %s' % ______)\n",
    "# OLS(______,df_hcs_I,'CTRLS | MEAN INCONGRUENT TRIALS | %s' % ______)\n",
    "# OLS(______,df_hcs_I,'CTRLS | MEAN INCONGRUENT TRIALS | %s' % ______)\n",
    "# OLS(______,df_hcs_I,'CTRLS | MEAN INCONGRUENT TRIALS | %s' % ______)\n",
    "# OLS(______,df_hcs_I,'CTRLS | MEAN INCONGRUENT TRIALS | %s' % ______)\n",
    "\n",
    "# OLS(______,df_pts_I,'PTS | MEAN INCONGRUENT TRIALS | %s' % ______)\n",
    "# OLS(______,df_pts_I,'PTS | MEAN INCONGRUENT TRIALS | %s' % ______)\n",
    "# OLS(______,df_pts_I,'PTS | MEAN INCONGRUENT TRIALS | %s' % ______)\n",
    "# OLS(______,df_pts_I,'PTS | MEAN INCONGRUENT TRIALS | %s' % ______)\n",
    "# OLS(______,df_pts_I,'PTS | MEAN INCONGRUENT TRIALS | %s' % ______)\n",
    "# OLS(______,df_pts_I,'PTS | MEAN INCONGRUENT TRIALS | %s' % ______)\n",
    "\n",
    "# OLS(______,df_hcs_C,'CTRLS | MEAN CONGRUENT TRIALS | %s' % ______)\n",
    "# OLS(______,df_hcs_C,'CTRLS | MEAN CONGRUENT TRIALS | %s' % ______)\n",
    "# OLS(______,df_hcs_C,'CTRLS | MEAN CONGRUENT TRIALS | %s' % ______)\n",
    "# OLS(______,df_hcs_C,'CTRLS | MEAN CONGRUENT TRIALS | %s' % ______)\n",
    "# OLS(______,df_hcs_C,'CTRLS | MEAN CONGRUENT TRIALS | %s' % ______)\n",
    "# OLS(______,df_hcs_C,'CTRLS | MEAN CONGRUENT TRIALS | %s' % ______)\n",
    "\n",
    "# OLS(______,df_pts_C,'PTS | MEAN CONGRUENT TRIALS | %s' % ______)\n",
    "# OLS(______,df_pts_C,'PTS | MEAN CONGRUENT TRIALS | %s' % ______)\n",
    "# OLS(______,df_pts_C,'PTS | MEAN CONGRUENT TRIALS | %s' % ______)\n",
    "# OLS(______,df_pts_C,'PTS | MEAN CONGRUENT TRIALS | %s' % ______)\n",
    "# OLS(______,df_pts_C,'PTS | MEAN CONGRUENT TRIALS | %s' % ______)\n",
    "# OLS(______,df_pts_C,'PTS | MEAN CONGRUENT TRIALS | %s' % ______)\n",
    "# ##---------------------------------##\n",
    "# rt_pred_cond='rt ~ cond'\n",
    "# dACC_pred_cond='dACC ~ cond'\n",
    "# L_IFG_pred_cond='L_IFG ~ cond'\n",
    "# R_IFG_pred_cond='R_IFG ~ cond'\n",
    "# L_dlPFC_pred_cond='L_dlPFC ~ cond'\n",
    "# R_dlPFC_pred_cond='R_dlPFC ~ cond'\n",
    "\n",
    "# OLS(______,df,'ALL SUBJS | ALL DATA')\n",
    "# OLS(______,df,'ALL SUBJS | ALL DATA')\n",
    "# OLS(______,df,'ALL SUBJS | ALL DATA')\n",
    "# OLS(______,df,'ALL SUBJS | ALL DATA')\n",
    "# OLS(______,df,'ALL SUBJS | ALL DATA')\n",
    "# OLS(______,df,'ALL SUBJS | ALL DATA')\n",
    "\n",
    "# OLS(______,df_hcs,'CTRLS | ALL DATA')\n",
    "# OLS(______,df_hcs,'CTRLS | ALL DATA')\n",
    "# OLS(______,df_hcs,'CTRLS | ALL DATA')\n",
    "# OLS(______,df_hcs,'CTRLS | ALL DATA')\n",
    "# OLS(______,df_hcs,'CTRLS | ALL DATA')\n",
    "# OLS(______,df_hcs,'CTRLS | ALL DATA')\n",
    "\n",
    "# OLS(______,df_pts,'PTS | ALL DATA')\n",
    "# OLS(______,df_pts,'PTS | ALL DATA')\n",
    "# OLS(______,df_pts,'PTS | ALL DATA')\n",
    "# OLS(______,df_pts,'PTS | ALL DATA')\n",
    "# OLS(______,df_pts,'PTS | ALL DATA')\n",
    "# OLS(______,df_pts,'PTS | ALL DATA')\n",
    "# ##---------------------------------##\n",
    "# rt_pred_group='rt ~ group'\n",
    "# dACC_pred_group='dACC ~ group'\n",
    "# L_IFG_pred_group='L_IFG ~ group'\n",
    "# R_IFG_pred_group='R_IFG ~ group'\n",
    "# L_dlPFC_pred_group='L_dlPFC ~ group'\n",
    "# R_dlPFC_pred_group='R_dlPFC ~ group'\n",
    "\n",
    "# OLS(______,df,'ALL SUBJS | ALL DATA')\n",
    "# OLS(______,df,'ALL SUBJS | ALL DATA')\n",
    "# OLS(______,df,'ALL SUBJS | ALL DATA')\n",
    "# OLS(______,df,'ALL SUBJS | ALL DATA')\n",
    "# OLS(______,df,'ALL SUBJS | ALL DATA')\n",
    "# OLS(______,df,'ALL SUBJS | ALL DATA')\n",
    "\n",
    "# OLS(______,df_I,'ALL SUBJS | MEAN INCONGRUENT TRIALS')\n",
    "# OLS(______,df_I,'ALL SUBJS | MEAN INCONGRUENT TRIALS')\n",
    "# OLS(______,df_I,'ALL SUBJS | MEAN INCONGRUENT TRIALS')\n",
    "# OLS(______,df_I,'ALL SUBJS | MEAN INCONGRUENT TRIALS')\n",
    "# OLS(______,df_I,'ALL SUBJS | MEAN INCONGRUENT TRIALS')\n",
    "# OLS(______,df_I,'ALL SUBJS | MEAN INCONGRUENT TRIALS')\n",
    "\n",
    "# OLS(______,df_C,'ALL SUBJS | MEAN CONGRUENT TRIALS')\n",
    "# OLS(______,df_C,'ALL SUBJS | MEAN CONGRUENT TRIALS')\n",
    "# OLS(______,df_C,'ALL SUBJS | MEAN CONGRUENT TRIALS')\n",
    "# OLS(______,df_C,'ALL SUBJS | MEAN CONGRUENT TRIALS')\n",
    "# OLS(______,df_C,'ALL SUBJS | MEAN CONGRUENT TRIALS')\n",
    "# OLS(______,df_C,'ALL SUBJS | MEAN CONGRUENT TRIALS')\n",
    "# ##---------------------------------##"
   ]
  },
  {
   "cell_type": "code",
   "execution_count": null,
   "metadata": {},
   "outputs": [],
   "source": []
  }
 ],
 "metadata": {
  "kernelspec": {
   "display_name": "Python 2",
   "language": "python",
   "name": "python2"
  },
  "language_info": {
   "codemirror_mode": {
    "name": "ipython",
    "version": 2
   },
   "file_extension": ".py",
   "mimetype": "text/x-python",
   "name": "python",
   "nbconvert_exporter": "python",
   "pygments_lexer": "ipython2",
   "version": "2.7.15"
  }
 },
 "nbformat": 4,
 "nbformat_minor": 2
}
