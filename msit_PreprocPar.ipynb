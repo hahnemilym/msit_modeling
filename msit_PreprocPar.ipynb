{
 "cells": [
  {
   "cell_type": "markdown",
   "metadata": {},
   "source": [
    "## Convert *existing* paradigm (PsychToolbox input) into FreeSurfer-friendly .par files"
   ]
  },
  {
   "cell_type": "code",
   "execution_count": 1,
   "metadata": {
    "ExecuteTime": {
     "end_time": "2019-02-24T04:45:46.624827Z",
     "start_time": "2019-02-24T04:45:45.900554Z"
    },
    "scrolled": true
   },
   "outputs": [],
   "source": [
    "import os\n",
    "import pandas as pd\n",
    "import numpy as np\n",
    "\n",
    "par_path='/Users/emilyhahn/projects/msit_BSM/params'\n",
    "\n",
    "df = pd.read_csv(os.path.join(par_path,'msit_I-C.par'),index_col=False,sep='\\t',\\\n",
    "                  names=['Time','Condition','Duration','Slope','Cond_IC'])\n",
    "\n",
    "# display(df)\n",
    "\n",
    "Condition=[]\n",
    "# StimOnset=[]\n",
    "# ResponseOnset=[]\n",
    "Slope=np.zeros(len(df))\n",
    "\n",
    "for i in df.Condition:\n",
    "    Condition.append(i)\n",
    "\n",
    "df2_data={'Condition': Condition}\n",
    "df2=pd.DataFrame(df2_data)\n",
    "\n",
    "# display(df2)\n",
    "\n",
    "df2.to_csv(os.path.join(par_path,'MSIT_par_reformat.csv'),index=False)"
   ]
  },
  {
   "cell_type": "markdown",
   "metadata": {
    "collapsed": true
   },
   "source": [
    "## Configure files to be FreeSurfer Compatible"
   ]
  },
  {
   "cell_type": "code",
   "execution_count": 2,
   "metadata": {
    "ExecuteTime": {
     "end_time": "2019-02-24T04:46:53.118343Z",
     "start_time": "2019-02-24T04:46:52.583625Z"
    }
   },
   "outputs": [
    {
     "name": "stderr",
     "output_type": "stream",
     "text": [
      "/Users/emilyhahn/anaconda2/envs/ipykernel_py3/lib/python3.7/site-packages/ipykernel_launcher.py:54: FutureWarning: The signature of `Series.to_csv` was aligned to that of `DataFrame.to_csv`, and argument 'header' will change its default value from False to True: please pass an explicit value to suppress this warning.\n"
     ]
    }
   ],
   "source": [
    "import os\n",
    "import pandas as pd\n",
    "import numpy as np\n",
    "\n",
    "bdir='/Users/emilyhahn/projects/msit_modeling/msit_mri_behav'\n",
    "indiv_par_path='/Users/emilyhahn/projects/msit_modeling/msit_indiv_pars'\n",
    "par_path='/Users/emilyhahn/projects/msit_BSM/params'\n",
    "msit_path='/Users/emilyhahn/projects/msit_modeling'\n",
    "\n",
    "dfo = os.path.join(msit_path,'msit_mri_behav.txt')\n",
    "\n",
    "subjects=[]\n",
    "orig_conds=[]\n",
    "\n",
    "for i in df2['Condition']:\n",
    "    orig_conds.append(i)\n",
    "\n",
    "f = open(dfo, 'r')\n",
    "f=f.readlines()\n",
    "for line in f:\n",
    "    subjects.append(line.strip())\n",
    "    \n",
    "for subject in subjects:\n",
    "    onsets=[]\n",
    "    conditions=[]\n",
    "    response_onset=[]\n",
    "    stim_response_onsets=[]\n",
    "    csv=pd.read_csv(os.path.join(bdir,'%s' % subject))\n",
    "    df=pd.DataFrame(csv)\n",
    "    for stim_onset,condition,res_onset in zip(df['StimOnset'],df['Condition'],df['ResponseOnset']):\n",
    "        condition=str(condition)\n",
    "        if '1' in condition or '2' in condition:\n",
    "            stim_response_onsets.append('%.2f:%.2f' % (stim_onset,1.75))\n",
    "#             stim_response_onsets.append('%.2f:%.2f' % (stim_onset,(res_onset-stim_onset)))\n",
    "            onsets.append(stim_onset)\n",
    "            conditions.append(condition)\n",
    "            response_onset.append(res_onset)\n",
    "        elif condition=='0':\n",
    "            continue\n",
    "        else:\n",
    "            print(\"CHECK SUBJECT: %s\" % subject)\n",
    "    run1=os.path.join(par_path,'%s.csv' % 'MSIT_par_reformat')\n",
    "    df1=pd.read_csv(run1)\n",
    "    df1=pd.DataFrame(df1)\n",
    "    df1['Condition'] = conditions\n",
    "    df1['StimOnset'] = onsets\n",
    "    df1['ResponseOnset'] = response_onset\n",
    "    df1['StimResponseOnset'] = stim_response_onsets\n",
    "    \n",
    "#     df1=df1.drop(df1.index[-1])\n",
    "#     df1=df1.drop(df1.index[0:2])\n",
    "            \n",
    "    df1['StimResponseOnset'].to_csv(os.path.join(indiv_par_path,'%s_durations_dmBLOCK.par'% subject[:5].lower()),\\\n",
    "                   sep='\\t',index=False,header=None)\n",
    "#     df1['StimResponseOnset'].to_csv(os.path.join(indiv_par_path,'%s_durations_dmBLOCK.par'% subject[:5].lower()),\\\n",
    "#                    sep='\\t',index=False,header=None)"
   ]
  },
  {
   "cell_type": "code",
   "execution_count": null,
   "metadata": {},
   "outputs": [],
   "source": []
  }
 ],
 "metadata": {
  "kernelspec": {
   "display_name": "Python 3",
   "language": "python",
   "name": "python3"
  },
  "language_info": {
   "codemirror_mode": {
    "name": "ipython",
    "version": 3
   },
   "file_extension": ".py",
   "mimetype": "text/x-python",
   "name": "python",
   "nbconvert_exporter": "python",
   "pygments_lexer": "ipython3",
   "version": "3.7.2"
  },
  "toc": {
   "colors": {
    "hover_highlight": "#DAA520",
    "navigate_num": "#000000",
    "navigate_text": "#333333",
    "running_highlight": "#FF0000",
    "selected_highlight": "#FFD700",
    "sidebar_border": "#EEEEEE",
    "wrapper_background": "#FFFFFF"
   },
   "moveMenuLeft": true,
   "nav_menu": {
    "height": "45px",
    "width": "252px"
   },
   "navigate_menu": true,
   "number_sections": true,
   "sideBar": true,
   "threshold": 4,
   "toc_cell": false,
   "toc_section_display": "block",
   "toc_window_display": false,
   "widenNotebook": false
  }
 },
 "nbformat": 4,
 "nbformat_minor": 2
}
